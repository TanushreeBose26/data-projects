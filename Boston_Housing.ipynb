{
  "nbformat": 4,
  "nbformat_minor": 0,
  "metadata": {
    "colab": {
      "provenance": [],
      "collapsed_sections": [],
      "authorship_tag": "ABX9TyMkvmjMRC0WH2hH8xHP4cp6",
      "include_colab_link": true
    },
    "kernelspec": {
      "name": "python3",
      "display_name": "Python 3"
    },
    "language_info": {
      "name": "python"
    }
  },
  "cells": [
    {
      "cell_type": "markdown",
      "metadata": {
        "id": "view-in-github",
        "colab_type": "text"
      },
      "source": [
        "<a href=\"https://colab.research.google.com/github/TanushreeBose26/data-projects/blob/main/Boston_Housing.ipynb\" target=\"_parent\"><img src=\"https://colab.research.google.com/assets/colab-badge.svg\" alt=\"Open In Colab\"/></a>"
      ]
    },
    {
      "cell_type": "code",
      "execution_count": 2,
      "metadata": {
        "id": "7YQCjEv3VD7F"
      },
      "outputs": [],
      "source": [
        "# IMPORTS\n",
        "import pandas as pd\n",
        "import numpy as np\n",
        "import matplotlib.pyplot as plt\n",
        "import seaborn as sns"
      ]
    },
    {
      "cell_type": "code",
      "source": [
        "plt.rcParams['font.size']=14\n",
        "plt.rcParams['axes.grid']=True\n",
        "plt.rcParams['figure.figsize'] = (5,5)"
      ],
      "metadata": {
        "id": "krz1vqeOVc9L"
      },
      "execution_count": null,
      "outputs": []
    },
    {
      "cell_type": "markdown",
      "source": [
        "We will see the highest corelation of the variables with our target column Price."
      ],
      "metadata": {
        "id": "K3GUmZg2gcFu"
      }
    },
    {
      "cell_type": "code",
      "source": [
        "bos = pd.read_csv('BostonHousing.csv')\n",
        "bos.head()"
      ],
      "metadata": {
        "colab": {
          "base_uri": "https://localhost:8080/",
          "height": 270
        },
        "id": "5Z8nuf90Vc5z",
        "outputId": "36c87f80-19ae-48de-94ab-da46849481d1"
      },
      "execution_count": null,
      "outputs": [
        {
          "output_type": "execute_result",
          "data": {
            "text/plain": [
              "   crime_rate  industrial_perc  close_to_charles_river  nitric_oxide  \\\n",
              "0     0.00632             2.31                       0         0.538   \n",
              "1     0.02731             7.07                       0         0.469   \n",
              "2     0.02729             7.07                       0         0.469   \n",
              "3     0.03237             2.18                       0         0.458   \n",
              "4     0.06905             2.18                       0         0.458   \n",
              "\n",
              "   avg_num_rooms   age  dist_frm_employment_center  pupil_teacher_ratio  \\\n",
              "0          6.575  65.2                      4.0900                 15.3   \n",
              "1          6.421  78.9                      4.9671                 17.8   \n",
              "2          7.185  61.1                      4.9671                 17.8   \n",
              "3          6.998  45.8                      6.0622                 18.7   \n",
              "4          7.147  54.2                      6.0622                 18.7   \n",
              "\n",
              "   perc_low_income_group  avg_house_price  \n",
              "0                   4.98             24.0  \n",
              "1                   9.14             21.6  \n",
              "2                   4.03             34.7  \n",
              "3                   2.94             33.4  \n",
              "4                   5.33             36.2  "
            ],
            "text/html": [
              "\n",
              "  <div id=\"df-fe4d6ece-2d85-406c-aaed-dbf3f8a97bf8\">\n",
              "    <div class=\"colab-df-container\">\n",
              "      <div>\n",
              "<style scoped>\n",
              "    .dataframe tbody tr th:only-of-type {\n",
              "        vertical-align: middle;\n",
              "    }\n",
              "\n",
              "    .dataframe tbody tr th {\n",
              "        vertical-align: top;\n",
              "    }\n",
              "\n",
              "    .dataframe thead th {\n",
              "        text-align: right;\n",
              "    }\n",
              "</style>\n",
              "<table border=\"1\" class=\"dataframe\">\n",
              "  <thead>\n",
              "    <tr style=\"text-align: right;\">\n",
              "      <th></th>\n",
              "      <th>crime_rate</th>\n",
              "      <th>industrial_perc</th>\n",
              "      <th>close_to_charles_river</th>\n",
              "      <th>nitric_oxide</th>\n",
              "      <th>avg_num_rooms</th>\n",
              "      <th>age</th>\n",
              "      <th>dist_frm_employment_center</th>\n",
              "      <th>pupil_teacher_ratio</th>\n",
              "      <th>perc_low_income_group</th>\n",
              "      <th>avg_house_price</th>\n",
              "    </tr>\n",
              "  </thead>\n",
              "  <tbody>\n",
              "    <tr>\n",
              "      <th>0</th>\n",
              "      <td>0.00632</td>\n",
              "      <td>2.31</td>\n",
              "      <td>0</td>\n",
              "      <td>0.538</td>\n",
              "      <td>6.575</td>\n",
              "      <td>65.2</td>\n",
              "      <td>4.0900</td>\n",
              "      <td>15.3</td>\n",
              "      <td>4.98</td>\n",
              "      <td>24.0</td>\n",
              "    </tr>\n",
              "    <tr>\n",
              "      <th>1</th>\n",
              "      <td>0.02731</td>\n",
              "      <td>7.07</td>\n",
              "      <td>0</td>\n",
              "      <td>0.469</td>\n",
              "      <td>6.421</td>\n",
              "      <td>78.9</td>\n",
              "      <td>4.9671</td>\n",
              "      <td>17.8</td>\n",
              "      <td>9.14</td>\n",
              "      <td>21.6</td>\n",
              "    </tr>\n",
              "    <tr>\n",
              "      <th>2</th>\n",
              "      <td>0.02729</td>\n",
              "      <td>7.07</td>\n",
              "      <td>0</td>\n",
              "      <td>0.469</td>\n",
              "      <td>7.185</td>\n",
              "      <td>61.1</td>\n",
              "      <td>4.9671</td>\n",
              "      <td>17.8</td>\n",
              "      <td>4.03</td>\n",
              "      <td>34.7</td>\n",
              "    </tr>\n",
              "    <tr>\n",
              "      <th>3</th>\n",
              "      <td>0.03237</td>\n",
              "      <td>2.18</td>\n",
              "      <td>0</td>\n",
              "      <td>0.458</td>\n",
              "      <td>6.998</td>\n",
              "      <td>45.8</td>\n",
              "      <td>6.0622</td>\n",
              "      <td>18.7</td>\n",
              "      <td>2.94</td>\n",
              "      <td>33.4</td>\n",
              "    </tr>\n",
              "    <tr>\n",
              "      <th>4</th>\n",
              "      <td>0.06905</td>\n",
              "      <td>2.18</td>\n",
              "      <td>0</td>\n",
              "      <td>0.458</td>\n",
              "      <td>7.147</td>\n",
              "      <td>54.2</td>\n",
              "      <td>6.0622</td>\n",
              "      <td>18.7</td>\n",
              "      <td>5.33</td>\n",
              "      <td>36.2</td>\n",
              "    </tr>\n",
              "  </tbody>\n",
              "</table>\n",
              "</div>\n",
              "      <button class=\"colab-df-convert\" onclick=\"convertToInteractive('df-fe4d6ece-2d85-406c-aaed-dbf3f8a97bf8')\"\n",
              "              title=\"Convert this dataframe to an interactive table.\"\n",
              "              style=\"display:none;\">\n",
              "        \n",
              "  <svg xmlns=\"http://www.w3.org/2000/svg\" height=\"24px\"viewBox=\"0 0 24 24\"\n",
              "       width=\"24px\">\n",
              "    <path d=\"M0 0h24v24H0V0z\" fill=\"none\"/>\n",
              "    <path d=\"M18.56 5.44l.94 2.06.94-2.06 2.06-.94-2.06-.94-.94-2.06-.94 2.06-2.06.94zm-11 1L8.5 8.5l.94-2.06 2.06-.94-2.06-.94L8.5 2.5l-.94 2.06-2.06.94zm10 10l.94 2.06.94-2.06 2.06-.94-2.06-.94-.94-2.06-.94 2.06-2.06.94z\"/><path d=\"M17.41 7.96l-1.37-1.37c-.4-.4-.92-.59-1.43-.59-.52 0-1.04.2-1.43.59L10.3 9.45l-7.72 7.72c-.78.78-.78 2.05 0 2.83L4 21.41c.39.39.9.59 1.41.59.51 0 1.02-.2 1.41-.59l7.78-7.78 2.81-2.81c.8-.78.8-2.07 0-2.86zM5.41 20L4 18.59l7.72-7.72 1.47 1.35L5.41 20z\"/>\n",
              "  </svg>\n",
              "      </button>\n",
              "      \n",
              "  <style>\n",
              "    .colab-df-container {\n",
              "      display:flex;\n",
              "      flex-wrap:wrap;\n",
              "      gap: 12px;\n",
              "    }\n",
              "\n",
              "    .colab-df-convert {\n",
              "      background-color: #E8F0FE;\n",
              "      border: none;\n",
              "      border-radius: 50%;\n",
              "      cursor: pointer;\n",
              "      display: none;\n",
              "      fill: #1967D2;\n",
              "      height: 32px;\n",
              "      padding: 0 0 0 0;\n",
              "      width: 32px;\n",
              "    }\n",
              "\n",
              "    .colab-df-convert:hover {\n",
              "      background-color: #E2EBFA;\n",
              "      box-shadow: 0px 1px 2px rgba(60, 64, 67, 0.3), 0px 1px 3px 1px rgba(60, 64, 67, 0.15);\n",
              "      fill: #174EA6;\n",
              "    }\n",
              "\n",
              "    [theme=dark] .colab-df-convert {\n",
              "      background-color: #3B4455;\n",
              "      fill: #D2E3FC;\n",
              "    }\n",
              "\n",
              "    [theme=dark] .colab-df-convert:hover {\n",
              "      background-color: #434B5C;\n",
              "      box-shadow: 0px 1px 3px 1px rgba(0, 0, 0, 0.15);\n",
              "      filter: drop-shadow(0px 1px 2px rgba(0, 0, 0, 0.3));\n",
              "      fill: #FFFFFF;\n",
              "    }\n",
              "  </style>\n",
              "\n",
              "      <script>\n",
              "        const buttonEl =\n",
              "          document.querySelector('#df-fe4d6ece-2d85-406c-aaed-dbf3f8a97bf8 button.colab-df-convert');\n",
              "        buttonEl.style.display =\n",
              "          google.colab.kernel.accessAllowed ? 'block' : 'none';\n",
              "\n",
              "        async function convertToInteractive(key) {\n",
              "          const element = document.querySelector('#df-fe4d6ece-2d85-406c-aaed-dbf3f8a97bf8');\n",
              "          const dataTable =\n",
              "            await google.colab.kernel.invokeFunction('convertToInteractive',\n",
              "                                                     [key], {});\n",
              "          if (!dataTable) return;\n",
              "\n",
              "          const docLinkHtml = 'Like what you see? Visit the ' +\n",
              "            '<a target=\"_blank\" href=https://colab.research.google.com/notebooks/data_table.ipynb>data table notebook</a>'\n",
              "            + ' to learn more about interactive tables.';\n",
              "          element.innerHTML = '';\n",
              "          dataTable['output_type'] = 'display_data';\n",
              "          await google.colab.output.renderOutput(dataTable, element);\n",
              "          const docLink = document.createElement('div');\n",
              "          docLink.innerHTML = docLinkHtml;\n",
              "          element.appendChild(docLink);\n",
              "        }\n",
              "      </script>\n",
              "    </div>\n",
              "  </div>\n",
              "  "
            ]
          },
          "metadata": {},
          "execution_count": 4
        }
      ]
    },
    {
      "cell_type": "markdown",
      "source": [
        "we are going tocreat the correlation of all our variables with our target column 'Price'.\n",
        "Lets choose one best column to create simple linear relation with Avg House Price\n"
      ],
      "metadata": {
        "id": "kYW6kkaGV4-0"
      }
    },
    {
      "cell_type": "code",
      "source": [
        "bos.corrwith(bos.avg_house_price)"
      ],
      "metadata": {
        "colab": {
          "base_uri": "https://localhost:8080/"
        },
        "id": "wTvFa7zTVc3r",
        "outputId": "d940874c-4ef7-40c9-b78c-133a4f615b03"
      },
      "execution_count": null,
      "outputs": [
        {
          "output_type": "execute_result",
          "data": {
            "text/plain": [
              "crime_rate                   -0.388305\n",
              "industrial_perc              -0.483725\n",
              "close_to_charles_river        0.175260\n",
              "nitric_oxide                 -0.427321\n",
              "avg_num_rooms                 0.695360\n",
              "age                          -0.376955\n",
              "dist_frm_employment_center    0.249929\n",
              "pupil_teacher_ratio          -0.507787\n",
              "perc_low_income_group        -0.737663\n",
              "avg_house_price               1.000000\n",
              "dtype: float64"
            ]
          },
          "metadata": {},
          "execution_count": 5
        }
      ]
    },
    {
      "cell_type": "markdown",
      "source": [
        "The column which has the highest corelation with our target variable is perc_low_income_group (as we take the absolute value)"
      ],
      "metadata": {
        "id": "WcHNmh9whITI"
      }
    },
    {
      "cell_type": "code",
      "source": [
        "plt.scatter(bos.perc_low_income_group, bos.avg_house_price, c='grey', marker = 'o', s=50)\n",
        "plt.xlabel('perc_low_income_group')\n",
        "plt.ylabel('avg_house_price')\n",
        "plt.title('Boston house price Vs low_income')\n",
        "plt.show()"
      ],
      "metadata": {
        "colab": {
          "base_uri": "https://localhost:8080/",
          "height": 362
        },
        "id": "GQX02bEGVc0I",
        "outputId": "3d0345b4-2d2a-47fc-c369-0bc1eaa97872"
      },
      "execution_count": null,
      "outputs": [
        {
          "output_type": "display_data",
          "data": {
            "text/plain": [
              "<Figure size 360x360 with 1 Axes>"
            ],
            "image/png": "[encoded data removed]"
          },
          "metadata": {
            "needs_background": "light"
          }
        }
      ]
    },
    {
      "cell_type": "markdown",
      "source": [
        "It's not a perfect line as the points are scattered around.\n",
        "\n",
        "For the equation y=mx+c+error, we will see the best fit line.\n",
        "\n",
        "we will see which value has the We will randomely choose three different values of the variable which has the highest correlation with our target variable."
      ],
      "metadata": {
        "id": "6-6oCt-sh7oK"
      }
    },
    {
      "cell_type": "markdown",
      "source": [
        "Let's find the best fit line (equation) given the data"
      ],
      "metadata": {
        "id": "TpEWvmWZWQsZ"
      }
    },
    {
      "cell_type": "code",
      "source": [
        "plt.figure(figsize=(7,7))\n",
        "plt.scatter(bos.perc_low_income_group, bos.avg_house_price, c='grey', marker = 'o', s=50)\n",
        "y_pred = -1.5*bos.perc_low_income_group + 40\n",
        "plt.plot(bos.perc_low_income_group, y_pred, c='r')\n",
        "y_pred = -2.5*bos.perc_low_income_group + 60\n",
        "plt.plot(bos.perc_low_income_group, y_pred, c='b')\n",
        "y_pred = -2.5*bos.perc_low_income_group + 50\n",
        "plt.plot(bos.perc_low_income_group, y_pred, c='g')\n",
        "\n",
        "plt.ylim((0, 60))\n",
        "plt.xlabel('perc_low_income_group')\n",
        "plt.ylabel('avg_house_price')\n",
        "plt.title('Boston house price Vs low_income')\n",
        "plt.show()"
      ],
      "metadata": {
        "colab": {
          "base_uri": "https://localhost:8080/",
          "height": 471
        },
        "id": "ph_mE8yRVcwX",
        "outputId": "c8da3416-15e3-4aa7-a5e6-a0842a11e90c"
      },
      "execution_count": null,
      "outputs": [
        {
          "output_type": "display_data",
          "data": {
            "text/plain": [
              "<Figure size 504x504 with 1 Axes>"
            ],
            "image/png": "[encoded data removed]"
          },
          "metadata": {
            "needs_background": "light"
          }
        }
      ]
    },
    {
      "cell_type": "markdown",
      "source": [
        "The way to find the best line is to see which line has the least amount of errors.\n",
        "The best fit line will pass through the mean of the X and Y value."
      ],
      "metadata": {
        "id": "KwAxJk_nvwHK"
      }
    },
    {
      "cell_type": "markdown",
      "source": [
        "Let's get the mean of X and Y"
      ],
      "metadata": {
        "id": "0KvrI4jVWmlP"
      }
    },
    {
      "cell_type": "code",
      "source": [
        "x_mean = bos.perc_low_income_group.mean()\n",
        "x_mean"
      ],
      "metadata": {
        "colab": {
          "base_uri": "https://localhost:8080/"
        },
        "id": "pvNVGb4JWXvZ",
        "outputId": "18e0cbaf-1b5f-4696-df8e-cd8f26af0230"
      },
      "execution_count": null,
      "outputs": [
        {
          "output_type": "execute_result",
          "data": {
            "text/plain": [
              "12.653063241106722"
            ]
          },
          "metadata": {},
          "execution_count": 8
        }
      ]
    },
    {
      "cell_type": "code",
      "source": [
        "y_mean = bos.avg_house_price.mean()\n",
        "y_mean"
      ],
      "metadata": {
        "colab": {
          "base_uri": "https://localhost:8080/"
        },
        "id": "69DzRzUnWXsB",
        "outputId": "38b3ddea-6841-4c3a-a89c-ba719cecfdf3"
      },
      "execution_count": null,
      "outputs": [
        {
          "output_type": "execute_result",
          "data": {
            "text/plain": [
              "22.532806324110677"
            ]
          },
          "metadata": {},
          "execution_count": 9
        }
      ]
    },
    {
      "cell_type": "markdown",
      "source": [
        "Now we will add the X and Y mean to our scatter plot and get the point and denote it with a star."
      ],
      "metadata": {
        "id": "B6ZDEVF1xiNl"
      }
    },
    {
      "cell_type": "code",
      "source": [
        "plt.figure(figsize=(7,7))\n",
        "plt.scatter(bos.perc_low_income_group, bos.avg_house_price, c='grey', marker = 'o', s=50)\n",
        "y_pred = -1.5*bos.perc_low_income_group + 40\n",
        "plt.plot(bos.perc_low_income_group, y_pred, c='r')\n",
        "y_pred = -2.5*bos.perc_low_income_group + 60\n",
        "plt.plot(bos.perc_low_income_group, y_pred, c='b')\n",
        "y_pred = -2.5*bos.perc_low_income_group + 50\n",
        "plt.plot(bos.perc_low_income_group, y_pred, c='g')\n",
        "plt.scatter(x_mean, y_mean, c='k', marker = '*', s=400)\n",
        "\n",
        "plt.ylim((0, 60))\n",
        "plt.xlabel('perc_low_income_group')\n",
        "plt.ylabel('avg_house_price')\n",
        "plt.title('Boston house price Vs low_income')\n",
        "plt.show()"
      ],
      "metadata": {
        "colab": {
          "base_uri": "https://localhost:8080/",
          "height": 471
        },
        "id": "nfJZUUbeWXpE",
        "outputId": "0812d00d-4990-4599-e4d8-7d774d8d1c48"
      },
      "execution_count": null,
      "outputs": [
        {
          "output_type": "display_data",
          "data": {
            "text/plain": [
              "<Figure size 504x504 with 1 Axes>"
            ],
            "image/png": "[encoded data removed]"
          },
          "metadata": {
            "needs_background": "light"
          }
        }
      ]
    },
    {
      "cell_type": "markdown",
      "source": [
        "hence we can see that our best fit line is red which is passing through the star.\n",
        "\n",
        "Now let's solve the slope.\n"
      ],
      "metadata": {
        "id": "6IfyY9mJWyji"
      }
    },
    {
      "cell_type": "code",
      "source": [
        "cov_mat = np.cov(bos.perc_low_income_group, bos.avg_house_price, ddof=1)\n",
        "cov_mat"
      ],
      "metadata": {
        "colab": {
          "base_uri": "https://localhost:8080/"
        },
        "id": "2SHPWl-1WXmY",
        "outputId": "11840c6b-15fd-4de5-f49f-4537f8e143db"
      },
      "execution_count": null,
      "outputs": [
        {
          "output_type": "execute_result",
          "data": {
            "text/plain": [
              "array([[ 50.99475951, -48.44753832],\n",
              "       [-48.44753832,  84.58672359]])"
            ]
          },
          "metadata": {},
          "execution_count": 11
        }
      ]
    },
    {
      "cell_type": "markdown",
      "source": [
        "*The first value 50.9947 tells us the variance of perc_low_income_group.\n",
        "\n",
        "*-48.447 is the covariance of the avg_house_price.\n",
        "\n",
        "*In second line -48.447 is again the covariance of the perc_low_income_group.\n",
        "\n",
        "*and the second line second value 84.5867 is the variance of avg_house_income."
      ],
      "metadata": {
        "id": "QjTEJYVjyk4p"
      }
    },
    {
      "cell_type": "code",
      "source": [
        "m = cov_mat[0, 1] / cov_mat[0, 0]\n",
        "m"
      ],
      "metadata": {
        "colab": {
          "base_uri": "https://localhost:8080/"
        },
        "id": "-Vypxcm_WXj1",
        "outputId": "c4e87dec-0940-422b-b2ea-32a2d47404a0"
      },
      "execution_count": null,
      "outputs": [
        {
          "output_type": "execute_result",
          "data": {
            "text/plain": [
              "-0.950049353757991"
            ]
          },
          "metadata": {},
          "execution_count": 12
        }
      ]
    },
    {
      "cell_type": "markdown",
      "source": [
        "The above is our slope value."
      ],
      "metadata": {
        "id": "lvJNj4470C_2"
      }
    },
    {
      "cell_type": "code",
      "source": [
        "c = y_mean - m*x_mean\n",
        "c"
      ],
      "metadata": {
        "colab": {
          "base_uri": "https://localhost:8080/"
        },
        "id": "crS2zsdvWXgK",
        "outputId": "cb4cc3d7-4e00-4082-c902-b2bff9c32434"
      },
      "execution_count": null,
      "outputs": [
        {
          "output_type": "execute_result",
          "data": {
            "text/plain": [
              "34.55384087938311"
            ]
          },
          "metadata": {},
          "execution_count": 13
        }
      ]
    },
    {
      "cell_type": "markdown",
      "source": [
        "The above is our intercept value.\n",
        "\n",
        "**Now, let's plot the final graph** "
      ],
      "metadata": {
        "id": "6d-q5bez0R7Y"
      }
    },
    {
      "cell_type": "code",
      "source": [
        "plt.figure(figsize=(7,7))\n",
        "plt.scatter(bos.perc_low_income_group, bos.avg_house_price, c='grey', marker = 'o', s=50)\n",
        "y_pred = -1.5*bos.perc_low_income_group + 40\n",
        "plt.plot(bos.perc_low_income_group, y_pred, c='r')\n",
        "y_pred = -2.5*bos.perc_low_income_group + 60\n",
        "plt.plot(bos.perc_low_income_group, y_pred, c='b')\n",
        "y_pred = -2.5*bos.perc_low_income_group + 50\n",
        "plt.plot(bos.perc_low_income_group, y_pred, c='g')\n",
        "\n",
        "y_pred = m*bos.perc_low_income_group + c # Our final prediction\n",
        "plt.plot(bos.perc_low_income_group, y_pred, c='yellow', lw =3)\n",
        "\n",
        "plt.scatter(x_mean, y_mean, c='k', marker = '*', s=400)\n",
        "\n",
        "plt.ylim((0, 60))\n",
        "plt.xlabel('perc_low_income_group')\n",
        "plt.ylabel('avg_house_price')\n",
        "plt.title('Boston house price Vs low_income')\n",
        "plt.show()"
      ],
      "metadata": {
        "colab": {
          "base_uri": "https://localhost:8080/",
          "height": 471
        },
        "id": "yInGQLKGW7vJ",
        "outputId": "368ea886-155a-4072-d0fb-a70704ad1f62"
      },
      "execution_count": null,
      "outputs": [
        {
          "output_type": "display_data",
          "data": {
            "text/plain": [
              "<Figure size 504x504 with 1 Axes>"
            ],
            "image/png": "[encoded data removed]"
          },
          "metadata": {
            "needs_background": "light"
          }
        }
      ]
    },
    {
      "cell_type": "markdown",
      "source": [
        "Here, yellow line is our final line. it is the line with the lease no. of errors. and it is passing through the star we plotted.\n",
        "\n",
        "**Lets evaluate the quality of our prediction**"
      ],
      "metadata": {
        "id": "ESeGg43oXDbd"
      }
    },
    {
      "cell_type": "code",
      "source": [
        "y_actual = bos.avg_house_price\n",
        "y_pred = m*bos.perc_low_income_group + c # Our final prediction\n",
        "n = len(y_actual)"
      ],
      "metadata": {
        "id": "oWt2pOiWW7r4"
      },
      "execution_count": null,
      "outputs": []
    },
    {
      "cell_type": "code",
      "source": [
        "mse = np.sum((y_actual-y_pred)**2)/n\n",
        "mse"
      ],
      "metadata": {
        "colab": {
          "base_uri": "https://localhost:8080/"
        },
        "id": "KmkYtHtGW7ou",
        "outputId": "3e1d9a59-369b-419d-e128-144232a235d7"
      },
      "execution_count": null,
      "outputs": [
        {
          "output_type": "execute_result",
          "data": {
            "text/plain": [
              "38.48296722989415"
            ]
          },
          "metadata": {},
          "execution_count": 16
        }
      ]
    },
    {
      "cell_type": "code",
      "source": [
        "mae = np.sum(np.abs(y_actual-y_pred))/n\n",
        "mae"
      ],
      "metadata": {
        "colab": {
          "base_uri": "https://localhost:8080/"
        },
        "id": "nh51FweRW7lh",
        "outputId": "b40cc4ae-2d06-4432-fff3-6eea77da23a4"
      },
      "execution_count": null,
      "outputs": [
        {
          "output_type": "execute_result",
          "data": {
            "text/plain": [
              "4.505281166250568"
            ]
          },
          "metadata": {},
          "execution_count": 17
        }
      ]
    },
    {
      "cell_type": "code",
      "source": [
        "rmse = np.sqrt(mse)\n",
        "rmse"
      ],
      "metadata": {
        "colab": {
          "base_uri": "https://localhost:8080/"
        },
        "id": "7THPGTt9W7iY",
        "outputId": "b75901cd-16d4-450a-9fe3-ce08f4442388"
      },
      "execution_count": null,
      "outputs": [
        {
          "output_type": "execute_result",
          "data": {
            "text/plain": [
              "6.20346413142642"
            ]
          },
          "metadata": {},
          "execution_count": 18
        }
      ]
    },
    {
      "cell_type": "code",
      "source": [
        "ssr = np.sum((y_pred- y_mean)**2)\n",
        "sse = np.sum((y_actual-y_pred)**2)\n",
        "sst = np.sum((y_actual-y_mean)**2)"
      ],
      "metadata": {
        "id": "Y0TYLKqmW7gN"
      },
      "execution_count": null,
      "outputs": []
    },
    {
      "cell_type": "code",
      "source": [
        "r_square  = ssr/sst\n",
        "r_square"
      ],
      "metadata": {
        "colab": {
          "base_uri": "https://localhost:8080/"
        },
        "id": "q_w3ssXMW7dK",
        "outputId": "7af54d22-bc53-4130-c100-7e768ee433b5"
      },
      "execution_count": null,
      "outputs": [
        {
          "output_type": "execute_result",
          "data": {
            "text/plain": [
              "0.5441462975864798"
            ]
          },
          "metadata": {},
          "execution_count": 20
        }
      ]
    },
    {
      "cell_type": "code",
      "source": [
        "r_square  = ssr/(ssr +sse)\n",
        "r_square"
      ],
      "metadata": {
        "colab": {
          "base_uri": "https://localhost:8080/"
        },
        "id": "XAohx_koW7ZE",
        "outputId": "327b21fd-fbe4-4655-9ad0-5cc4d1e4b29a"
      },
      "execution_count": null,
      "outputs": [
        {
          "output_type": "execute_result",
          "data": {
            "text/plain": [
              "0.5441462975864798"
            ]
          },
          "metadata": {},
          "execution_count": 21
        }
      ]
    },
    {
      "cell_type": "code",
      "source": [
        "r_square  = 1-(sse/sst)\n",
        "r_square"
      ],
      "metadata": {
        "colab": {
          "base_uri": "https://localhost:8080/"
        },
        "id": "KczKBv5VcrIJ",
        "outputId": "3e1232a8-e410-4b0e-d2b3-65011ec4d8cb"
      },
      "execution_count": null,
      "outputs": [
        {
          "output_type": "execute_result",
          "data": {
            "text/plain": [
              "0.5441462975864797"
            ]
          },
          "metadata": {},
          "execution_count": 22
        }
      ]
    },
    {
      "cell_type": "code",
      "source": [],
      "metadata": {
        "id": "zUXpjth-cq-e"
      },
      "execution_count": null,
      "outputs": []
    },
    {
      "cell_type": "markdown",
      "source": [
        "Let's see other variables now."
      ],
      "metadata": {
        "id": "xZC7kpPED4rl"
      }
    },
    {
      "cell_type": "code",
      "source": [
        "import statsmodels.formula.api as SM"
      ],
      "metadata": {
        "id": "Ngyh4BiRc1WX"
      },
      "execution_count": null,
      "outputs": []
    },
    {
      "cell_type": "code",
      "source": [
        "formula_MLR ='avg_house_price~crime_rate+industrial_perc+close_to_charles_river+nitric_oxide+avg_num_rooms+age+dist_frm_employment_center+pupil_teacher_ratio+perc_low_income_group'"
      ],
      "metadata": {
        "id": "9paEgixXc1S2"
      },
      "execution_count": null,
      "outputs": []
    },
    {
      "cell_type": "code",
      "source": [
        "model = SM.ols(formula = formula_MLR, data=bos).fit()\n",
        "model.summary()"
      ],
      "metadata": {
        "colab": {
          "base_uri": "https://localhost:8080/",
          "height": 657
        },
        "id": "dgz5eQUHc1P0",
        "outputId": "97abbe67-cb45-4a46-df30-20cf2391493f"
      },
      "execution_count": null,
      "outputs": [
        {
          "output_type": "execute_result",
          "data": {
            "text/plain": [
              "<class 'statsmodels.iolib.summary.Summary'>\n",
              "\"\"\"\n",
              "                            OLS Regression Results                            \n",
              "==============================================================================\n",
              "Dep. Variable:        avg_house_price   R-squared:                       0.719\n",
              "Model:                            OLS   Adj. R-squared:                  0.714\n",
              "Method:                 Least Squares   F-statistic:                     141.1\n",
              "Date:                Mon, 05 Sep 2022   Prob (F-statistic):          1.09e-130\n",
              "Time:                        11:47:22   Log-Likelihood:                -1518.9\n",
              "No. Observations:                 506   AIC:                             3058.\n",
              "Df Residuals:                     496   BIC:                             3100.\n",
              "Df Model:                           9                                         \n",
              "Covariance Type:            nonrobust                                         \n",
              "==============================================================================================\n",
              "                                 coef    std err          t      P>|t|      [0.025      0.975]\n",
              "----------------------------------------------------------------------------------------------\n",
              "Intercept                     34.7144      4.633      7.492      0.000      25.611      43.818\n",
              "crime_rate                    -0.0659      0.030     -2.203      0.028      -0.125      -0.007\n",
              "industrial_perc               -0.0568      0.057     -1.000      0.318      -0.168       0.055\n",
              "close_to_charles_river         3.1947      0.885      3.610      0.000       1.456       4.933\n",
              "nitric_oxide                 -15.8670      3.695     -4.294      0.000     -23.126      -8.608\n",
              "avg_num_rooms                  4.1799      0.416     10.036      0.000       3.362       4.998\n",
              "age                           -0.0064      0.013     -0.475      0.635      -0.033       0.020\n",
              "dist_frm_employment_center    -1.2439      0.187     -6.637      0.000      -1.612      -0.876\n",
              "pupil_teacher_ratio           -0.9269      0.119     -7.816      0.000      -1.160      -0.694\n",
              "perc_low_income_group         -0.5322      0.052    -10.289      0.000      -0.634      -0.431\n",
              "==============================================================================\n",
              "Omnibus:                      192.569   Durbin-Watson:                   1.030\n",
              "Prob(Omnibus):                  0.000   Jarque-Bera (JB):              936.024\n",
              "Skew:                           1.623   Prob(JB):                    5.56e-204\n",
              "Kurtosis:                       8.819   Cond. No.                     1.87e+03\n",
              "==============================================================================\n",
              "\n",
              "Notes:\n",
              "[1] Standard Errors assume that the covariance matrix of the errors is correctly specified.\n",
              "[2] The condition number is large, 1.87e+03. This might indicate that there are\n",
              "strong multicollinearity or other numerical problems.\n",
              "\"\"\""
            ],
            "text/html": [
              "<table class=\"simpletable\">\n",
              "<caption>OLS Regression Results</caption>\n",
              "<tr>\n",
              "  <th>Dep. Variable:</th>     <td>avg_house_price</td> <th>  R-squared:         </th> <td>   0.719</td> \n",
              "</tr>\n",
              "<tr>\n",
              "  <th>Model:</th>                   <td>OLS</td>       <th>  Adj. R-squared:    </th> <td>   0.714</td> \n",
              "</tr>\n",
              "<tr>\n",
              "  <th>Method:</th>             <td>Least Squares</td>  <th>  F-statistic:       </th> <td>   141.1</td> \n",
              "</tr>\n",
              "<tr>\n",
              "  <th>Date:</th>             <td>Mon, 05 Sep 2022</td> <th>  Prob (F-statistic):</th> <td>1.09e-130</td>\n",
              "</tr>\n",
              "<tr>\n",
              "  <th>Time:</th>                 <td>11:47:22</td>     <th>  Log-Likelihood:    </th> <td> -1518.9</td> \n",
              "</tr>\n",
              "<tr>\n",
              "  <th>No. Observations:</th>      <td>   506</td>      <th>  AIC:               </th> <td>   3058.</td> \n",
              "</tr>\n",
              "<tr>\n",
              "  <th>Df Residuals:</th>          <td>   496</td>      <th>  BIC:               </th> <td>   3100.</td> \n",
              "</tr>\n",
              "<tr>\n",
              "  <th>Df Model:</th>              <td>     9</td>      <th>                     </th>     <td> </td>    \n",
              "</tr>\n",
              "<tr>\n",
              "  <th>Covariance Type:</th>      <td>nonrobust</td>    <th>                     </th>     <td> </td>    \n",
              "</tr>\n",
              "</table>\n",
              "<table class=\"simpletable\">\n",
              "<tr>\n",
              "               <td></td>                 <th>coef</th>     <th>std err</th>      <th>t</th>      <th>P>|t|</th>  <th>[0.025</th>    <th>0.975]</th>  \n",
              "</tr>\n",
              "<tr>\n",
              "  <th>Intercept</th>                  <td>   34.7144</td> <td>    4.633</td> <td>    7.492</td> <td> 0.000</td> <td>   25.611</td> <td>   43.818</td>\n",
              "</tr>\n",
              "<tr>\n",
              "  <th>crime_rate</th>                 <td>   -0.0659</td> <td>    0.030</td> <td>   -2.203</td> <td> 0.028</td> <td>   -0.125</td> <td>   -0.007</td>\n",
              "</tr>\n",
              "<tr>\n",
              "  <th>industrial_perc</th>            <td>   -0.0568</td> <td>    0.057</td> <td>   -1.000</td> <td> 0.318</td> <td>   -0.168</td> <td>    0.055</td>\n",
              "</tr>\n",
              "<tr>\n",
              "  <th>close_to_charles_river</th>     <td>    3.1947</td> <td>    0.885</td> <td>    3.610</td> <td> 0.000</td> <td>    1.456</td> <td>    4.933</td>\n",
              "</tr>\n",
              "<tr>\n",
              "  <th>nitric_oxide</th>               <td>  -15.8670</td> <td>    3.695</td> <td>   -4.294</td> <td> 0.000</td> <td>  -23.126</td> <td>   -8.608</td>\n",
              "</tr>\n",
              "<tr>\n",
              "  <th>avg_num_rooms</th>              <td>    4.1799</td> <td>    0.416</td> <td>   10.036</td> <td> 0.000</td> <td>    3.362</td> <td>    4.998</td>\n",
              "</tr>\n",
              "<tr>\n",
              "  <th>age</th>                        <td>   -0.0064</td> <td>    0.013</td> <td>   -0.475</td> <td> 0.635</td> <td>   -0.033</td> <td>    0.020</td>\n",
              "</tr>\n",
              "<tr>\n",
              "  <th>dist_frm_employment_center</th> <td>   -1.2439</td> <td>    0.187</td> <td>   -6.637</td> <td> 0.000</td> <td>   -1.612</td> <td>   -0.876</td>\n",
              "</tr>\n",
              "<tr>\n",
              "  <th>pupil_teacher_ratio</th>        <td>   -0.9269</td> <td>    0.119</td> <td>   -7.816</td> <td> 0.000</td> <td>   -1.160</td> <td>   -0.694</td>\n",
              "</tr>\n",
              "<tr>\n",
              "  <th>perc_low_income_group</th>      <td>   -0.5322</td> <td>    0.052</td> <td>  -10.289</td> <td> 0.000</td> <td>   -0.634</td> <td>   -0.431</td>\n",
              "</tr>\n",
              "</table>\n",
              "<table class=\"simpletable\">\n",
              "<tr>\n",
              "  <th>Omnibus:</th>       <td>192.569</td> <th>  Durbin-Watson:     </th> <td>   1.030</td> \n",
              "</tr>\n",
              "<tr>\n",
              "  <th>Prob(Omnibus):</th> <td> 0.000</td>  <th>  Jarque-Bera (JB):  </th> <td> 936.024</td> \n",
              "</tr>\n",
              "<tr>\n",
              "  <th>Skew:</th>          <td> 1.623</td>  <th>  Prob(JB):          </th> <td>5.56e-204</td>\n",
              "</tr>\n",
              "<tr>\n",
              "  <th>Kurtosis:</th>      <td> 8.819</td>  <th>  Cond. No.          </th> <td>1.87e+03</td> \n",
              "</tr>\n",
              "</table><br/><br/>Notes:<br/>[1] Standard Errors assume that the covariance matrix of the errors is correctly specified.<br/>[2] The condition number is large, 1.87e+03. This might indicate that there are<br/>strong multicollinearity or other numerical problems."
            ]
          },
          "metadata": {},
          "execution_count": 25
        }
      ]
    },
    {
      "cell_type": "markdown",
      "source": [
        "* avg_num_rooms has positive coefficient as expected.\n",
        "* perc_low_income_group has negative coefficient.\n",
        "* here we cant directly compare the coefficient value of nitric_oxide with the price because it has decimal values and avg_house_price has tens values as well. as we have not scaled our values.\n"
      ],
      "metadata": {
        "id": "tkC1BsZdETzT"
      }
    },
    {
      "cell_type": "code",
      "source": [
        "rsqr = model.rsquared\n",
        "rsqr"
      ],
      "metadata": {
        "colab": {
          "base_uri": "https://localhost:8080/"
        },
        "id": "rvjiHKTIc1MU",
        "outputId": "cc2743e2-92da-4fb3-af6c-997bd4d4c497"
      },
      "execution_count": null,
      "outputs": [
        {
          "output_type": "execute_result",
          "data": {
            "text/plain": [
              "0.7191918531783886"
            ]
          },
          "metadata": {},
          "execution_count": 26
        }
      ]
    },
    {
      "cell_type": "code",
      "source": [
        "n"
      ],
      "metadata": {
        "colab": {
          "base_uri": "https://localhost:8080/"
        },
        "id": "iZizM9vTemR9",
        "outputId": "771b0122-7d8b-422b-ebcc-9b3e4726e6dc"
      },
      "execution_count": null,
      "outputs": [
        {
          "output_type": "execute_result",
          "data": {
            "text/plain": [
              "506"
            ]
          },
          "metadata": {},
          "execution_count": 27
        }
      ]
    },
    {
      "cell_type": "code",
      "source": [
        "k = 9"
      ],
      "metadata": {
        "id": "WTiaPbXnemOm"
      },
      "execution_count": null,
      "outputs": []
    },
    {
      "cell_type": "code",
      "source": [
        "rsqr_adj = 1 - ( (1-rsqr)* (n-1)/(n-k-1) )\n",
        "rsqr_adj"
      ],
      "metadata": {
        "colab": {
          "base_uri": "https://localhost:8080/"
        },
        "id": "AfwJlR_vemLq",
        "outputId": "8c3b9cf4-6897-4b1b-e8e5-f71dc49bf3d9"
      },
      "execution_count": null,
      "outputs": [
        {
          "output_type": "execute_result",
          "data": {
            "text/plain": [
              "0.7140965440626739"
            ]
          },
          "metadata": {},
          "execution_count": 29
        }
      ]
    },
    {
      "cell_type": "code",
      "source": [
        "model.summary()"
      ],
      "metadata": {
        "colab": {
          "base_uri": "https://localhost:8080/",
          "height": 657
        },
        "id": "SXr_6UkxemIa",
        "outputId": "8a15ce93-10a0-4173-ae18-12cfeccaeba9"
      },
      "execution_count": null,
      "outputs": [
        {
          "output_type": "execute_result",
          "data": {
            "text/plain": [
              "<class 'statsmodels.iolib.summary.Summary'>\n",
              "\"\"\"\n",
              "                            OLS Regression Results                            \n",
              "==============================================================================\n",
              "Dep. Variable:        avg_house_price   R-squared:                       0.719\n",
              "Model:                            OLS   Adj. R-squared:                  0.714\n",
              "Method:                 Least Squares   F-statistic:                     141.1\n",
              "Date:                Mon, 05 Sep 2022   Prob (F-statistic):          1.09e-130\n",
              "Time:                        11:48:39   Log-Likelihood:                -1518.9\n",
              "No. Observations:                 506   AIC:                             3058.\n",
              "Df Residuals:                     496   BIC:                             3100.\n",
              "Df Model:                           9                                         \n",
              "Covariance Type:            nonrobust                                         \n",
              "==============================================================================================\n",
              "                                 coef    std err          t      P>|t|      [0.025      0.975]\n",
              "----------------------------------------------------------------------------------------------\n",
              "Intercept                     34.7144      4.633      7.492      0.000      25.611      43.818\n",
              "crime_rate                    -0.0659      0.030     -2.203      0.028      -0.125      -0.007\n",
              "industrial_perc               -0.0568      0.057     -1.000      0.318      -0.168       0.055\n",
              "close_to_charles_river         3.1947      0.885      3.610      0.000       1.456       4.933\n",
              "nitric_oxide                 -15.8670      3.695     -4.294      0.000     -23.126      -8.608\n",
              "avg_num_rooms                  4.1799      0.416     10.036      0.000       3.362       4.998\n",
              "age                           -0.0064      0.013     -0.475      0.635      -0.033       0.020\n",
              "dist_frm_employment_center    -1.2439      0.187     -6.637      0.000      -1.612      -0.876\n",
              "pupil_teacher_ratio           -0.9269      0.119     -7.816      0.000      -1.160      -0.694\n",
              "perc_low_income_group         -0.5322      0.052    -10.289      0.000      -0.634      -0.431\n",
              "==============================================================================\n",
              "Omnibus:                      192.569   Durbin-Watson:                   1.030\n",
              "Prob(Omnibus):                  0.000   Jarque-Bera (JB):              936.024\n",
              "Skew:                           1.623   Prob(JB):                    5.56e-204\n",
              "Kurtosis:                       8.819   Cond. No.                     1.87e+03\n",
              "==============================================================================\n",
              "\n",
              "Notes:\n",
              "[1] Standard Errors assume that the covariance matrix of the errors is correctly specified.\n",
              "[2] The condition number is large, 1.87e+03. This might indicate that there are\n",
              "strong multicollinearity or other numerical problems.\n",
              "\"\"\""
            ],
            "text/html": [
              "<table class=\"simpletable\">\n",
              "<caption>OLS Regression Results</caption>\n",
              "<tr>\n",
              "  <th>Dep. Variable:</th>     <td>avg_house_price</td> <th>  R-squared:         </th> <td>   0.719</td> \n",
              "</tr>\n",
              "<tr>\n",
              "  <th>Model:</th>                   <td>OLS</td>       <th>  Adj. R-squared:    </th> <td>   0.714</td> \n",
              "</tr>\n",
              "<tr>\n",
              "  <th>Method:</th>             <td>Least Squares</td>  <th>  F-statistic:       </th> <td>   141.1</td> \n",
              "</tr>\n",
              "<tr>\n",
              "  <th>Date:</th>             <td>Mon, 05 Sep 2022</td> <th>  Prob (F-statistic):</th> <td>1.09e-130</td>\n",
              "</tr>\n",
              "<tr>\n",
              "  <th>Time:</th>                 <td>11:48:39</td>     <th>  Log-Likelihood:    </th> <td> -1518.9</td> \n",
              "</tr>\n",
              "<tr>\n",
              "  <th>No. Observations:</th>      <td>   506</td>      <th>  AIC:               </th> <td>   3058.</td> \n",
              "</tr>\n",
              "<tr>\n",
              "  <th>Df Residuals:</th>          <td>   496</td>      <th>  BIC:               </th> <td>   3100.</td> \n",
              "</tr>\n",
              "<tr>\n",
              "  <th>Df Model:</th>              <td>     9</td>      <th>                     </th>     <td> </td>    \n",
              "</tr>\n",
              "<tr>\n",
              "  <th>Covariance Type:</th>      <td>nonrobust</td>    <th>                     </th>     <td> </td>    \n",
              "</tr>\n",
              "</table>\n",
              "<table class=\"simpletable\">\n",
              "<tr>\n",
              "               <td></td>                 <th>coef</th>     <th>std err</th>      <th>t</th>      <th>P>|t|</th>  <th>[0.025</th>    <th>0.975]</th>  \n",
              "</tr>\n",
              "<tr>\n",
              "  <th>Intercept</th>                  <td>   34.7144</td> <td>    4.633</td> <td>    7.492</td> <td> 0.000</td> <td>   25.611</td> <td>   43.818</td>\n",
              "</tr>\n",
              "<tr>\n",
              "  <th>crime_rate</th>                 <td>   -0.0659</td> <td>    0.030</td> <td>   -2.203</td> <td> 0.028</td> <td>   -0.125</td> <td>   -0.007</td>\n",
              "</tr>\n",
              "<tr>\n",
              "  <th>industrial_perc</th>            <td>   -0.0568</td> <td>    0.057</td> <td>   -1.000</td> <td> 0.318</td> <td>   -0.168</td> <td>    0.055</td>\n",
              "</tr>\n",
              "<tr>\n",
              "  <th>close_to_charles_river</th>     <td>    3.1947</td> <td>    0.885</td> <td>    3.610</td> <td> 0.000</td> <td>    1.456</td> <td>    4.933</td>\n",
              "</tr>\n",
              "<tr>\n",
              "  <th>nitric_oxide</th>               <td>  -15.8670</td> <td>    3.695</td> <td>   -4.294</td> <td> 0.000</td> <td>  -23.126</td> <td>   -8.608</td>\n",
              "</tr>\n",
              "<tr>\n",
              "  <th>avg_num_rooms</th>              <td>    4.1799</td> <td>    0.416</td> <td>   10.036</td> <td> 0.000</td> <td>    3.362</td> <td>    4.998</td>\n",
              "</tr>\n",
              "<tr>\n",
              "  <th>age</th>                        <td>   -0.0064</td> <td>    0.013</td> <td>   -0.475</td> <td> 0.635</td> <td>   -0.033</td> <td>    0.020</td>\n",
              "</tr>\n",
              "<tr>\n",
              "  <th>dist_frm_employment_center</th> <td>   -1.2439</td> <td>    0.187</td> <td>   -6.637</td> <td> 0.000</td> <td>   -1.612</td> <td>   -0.876</td>\n",
              "</tr>\n",
              "<tr>\n",
              "  <th>pupil_teacher_ratio</th>        <td>   -0.9269</td> <td>    0.119</td> <td>   -7.816</td> <td> 0.000</td> <td>   -1.160</td> <td>   -0.694</td>\n",
              "</tr>\n",
              "<tr>\n",
              "  <th>perc_low_income_group</th>      <td>   -0.5322</td> <td>    0.052</td> <td>  -10.289</td> <td> 0.000</td> <td>   -0.634</td> <td>   -0.431</td>\n",
              "</tr>\n",
              "</table>\n",
              "<table class=\"simpletable\">\n",
              "<tr>\n",
              "  <th>Omnibus:</th>       <td>192.569</td> <th>  Durbin-Watson:     </th> <td>   1.030</td> \n",
              "</tr>\n",
              "<tr>\n",
              "  <th>Prob(Omnibus):</th> <td> 0.000</td>  <th>  Jarque-Bera (JB):  </th> <td> 936.024</td> \n",
              "</tr>\n",
              "<tr>\n",
              "  <th>Skew:</th>          <td> 1.623</td>  <th>  Prob(JB):          </th> <td>5.56e-204</td>\n",
              "</tr>\n",
              "<tr>\n",
              "  <th>Kurtosis:</th>      <td> 8.819</td>  <th>  Cond. No.          </th> <td>1.87e+03</td> \n",
              "</tr>\n",
              "</table><br/><br/>Notes:<br/>[1] Standard Errors assume that the covariance matrix of the errors is correctly specified.<br/>[2] The condition number is large, 1.87e+03. This might indicate that there are<br/>strong multicollinearity or other numerical problems."
            ]
          },
          "metadata": {},
          "execution_count": 30
        }
      ]
    },
    {
      "cell_type": "code",
      "source": [
        "residuals = model.resid"
      ],
      "metadata": {
        "id": "wEf-rY6SemFh"
      },
      "execution_count": null,
      "outputs": []
    },
    {
      "cell_type": "code",
      "source": [
        "predictions = model.predict(bos)"
      ],
      "metadata": {
        "id": "I_rtcU-YemCg"
      },
      "execution_count": null,
      "outputs": []
    },
    {
      "cell_type": "code",
      "source": [
        "plt.scatter(predictions, residuals, c='blue')\n",
        "plt.title('Plot of residuals')\n",
        "plt.xlabel('Y_predicted')\n",
        "plt.ylabel('Residuals')\n",
        "plt.show()"
      ],
      "metadata": {
        "colab": {
          "base_uri": "https://localhost:8080/",
          "height": 362
        },
        "id": "NYupxn-del_L",
        "outputId": "35e80a8b-997d-43d3-9e54-35991c296b34"
      },
      "execution_count": null,
      "outputs": [
        {
          "output_type": "display_data",
          "data": {
            "text/plain": [
              "<Figure size 360x360 with 1 Axes>"
            ],
            "image/png": "[encoded data removed]"
          },
          "metadata": {
            "needs_background": "light"
          }
        }
      ]
    },
    {
      "cell_type": "markdown",
      "source": [
        "*we can see cetain pattern here.\n",
        "*the variance is different in each zone. its called homoscedesticity.\n",
        "*multi collinearity is there, its not good.\n"
      ],
      "metadata": {
        "id": "UjSfe3H2v6YH"
      }
    },
    {
      "cell_type": "code",
      "source": [
        "sns.displot(residuals, kde = True)\n",
        "plt.show()"
      ],
      "metadata": {
        "colab": {
          "base_uri": "https://localhost:8080/",
          "height": 361
        },
        "id": "8w_C2lRiel8R",
        "outputId": "7c1af7a9-8dfe-44d9-a790-b543f2ff8df6"
      },
      "execution_count": null,
      "outputs": [
        {
          "output_type": "display_data",
          "data": {
            "text/plain": [
              "<Figure size 360x360 with 1 Axes>"
            ],
            "image/png": "[encoded data removed]"
          },
          "metadata": {
            "needs_background": "light"
          }
        }
      ]
    },
    {
      "cell_type": "markdown",
      "source": [
        "* distribution of residual is very important."
      ],
      "metadata": {
        "id": "sjQdXv_0xTrt"
      }
    },
    {
      "cell_type": "code",
      "source": [
        "model.summary()"
      ],
      "metadata": {
        "colab": {
          "base_uri": "https://localhost:8080/",
          "height": 657
        },
        "id": "4i4BRJLwel5Z",
        "outputId": "15ca6dbb-cd3c-4012-a974-ecfce71aa055"
      },
      "execution_count": null,
      "outputs": [
        {
          "output_type": "execute_result",
          "data": {
            "text/plain": [
              "<class 'statsmodels.iolib.summary.Summary'>\n",
              "\"\"\"\n",
              "                            OLS Regression Results                            \n",
              "==============================================================================\n",
              "Dep. Variable:        avg_house_price   R-squared:                       0.719\n",
              "Model:                            OLS   Adj. R-squared:                  0.714\n",
              "Method:                 Least Squares   F-statistic:                     141.1\n",
              "Date:                Mon, 05 Sep 2022   Prob (F-statistic):          1.09e-130\n",
              "Time:                        11:50:15   Log-Likelihood:                -1518.9\n",
              "No. Observations:                 506   AIC:                             3058.\n",
              "Df Residuals:                     496   BIC:                             3100.\n",
              "Df Model:                           9                                         \n",
              "Covariance Type:            nonrobust                                         \n",
              "==============================================================================================\n",
              "                                 coef    std err          t      P>|t|      [0.025      0.975]\n",
              "----------------------------------------------------------------------------------------------\n",
              "Intercept                     34.7144      4.633      7.492      0.000      25.611      43.818\n",
              "crime_rate                    -0.0659      0.030     -2.203      0.028      -0.125      -0.007\n",
              "industrial_perc               -0.0568      0.057     -1.000      0.318      -0.168       0.055\n",
              "close_to_charles_river         3.1947      0.885      3.610      0.000       1.456       4.933\n",
              "nitric_oxide                 -15.8670      3.695     -4.294      0.000     -23.126      -8.608\n",
              "avg_num_rooms                  4.1799      0.416     10.036      0.000       3.362       4.998\n",
              "age                           -0.0064      0.013     -0.475      0.635      -0.033       0.020\n",
              "dist_frm_employment_center    -1.2439      0.187     -6.637      0.000      -1.612      -0.876\n",
              "pupil_teacher_ratio           -0.9269      0.119     -7.816      0.000      -1.160      -0.694\n",
              "perc_low_income_group         -0.5322      0.052    -10.289      0.000      -0.634      -0.431\n",
              "==============================================================================\n",
              "Omnibus:                      192.569   Durbin-Watson:                   1.030\n",
              "Prob(Omnibus):                  0.000   Jarque-Bera (JB):              936.024\n",
              "Skew:                           1.623   Prob(JB):                    5.56e-204\n",
              "Kurtosis:                       8.819   Cond. No.                     1.87e+03\n",
              "==============================================================================\n",
              "\n",
              "Notes:\n",
              "[1] Standard Errors assume that the covariance matrix of the errors is correctly specified.\n",
              "[2] The condition number is large, 1.87e+03. This might indicate that there are\n",
              "strong multicollinearity or other numerical problems.\n",
              "\"\"\""
            ],
            "text/html": [
              "<table class=\"simpletable\">\n",
              "<caption>OLS Regression Results</caption>\n",
              "<tr>\n",
              "  <th>Dep. Variable:</th>     <td>avg_house_price</td> <th>  R-squared:         </th> <td>   0.719</td> \n",
              "</tr>\n",
              "<tr>\n",
              "  <th>Model:</th>                   <td>OLS</td>       <th>  Adj. R-squared:    </th> <td>   0.714</td> \n",
              "</tr>\n",
              "<tr>\n",
              "  <th>Method:</th>             <td>Least Squares</td>  <th>  F-statistic:       </th> <td>   141.1</td> \n",
              "</tr>\n",
              "<tr>\n",
              "  <th>Date:</th>             <td>Mon, 05 Sep 2022</td> <th>  Prob (F-statistic):</th> <td>1.09e-130</td>\n",
              "</tr>\n",
              "<tr>\n",
              "  <th>Time:</th>                 <td>11:50:15</td>     <th>  Log-Likelihood:    </th> <td> -1518.9</td> \n",
              "</tr>\n",
              "<tr>\n",
              "  <th>No. Observations:</th>      <td>   506</td>      <th>  AIC:               </th> <td>   3058.</td> \n",
              "</tr>\n",
              "<tr>\n",
              "  <th>Df Residuals:</th>          <td>   496</td>      <th>  BIC:               </th> <td>   3100.</td> \n",
              "</tr>\n",
              "<tr>\n",
              "  <th>Df Model:</th>              <td>     9</td>      <th>                     </th>     <td> </td>    \n",
              "</tr>\n",
              "<tr>\n",
              "  <th>Covariance Type:</th>      <td>nonrobust</td>    <th>                     </th>     <td> </td>    \n",
              "</tr>\n",
              "</table>\n",
              "<table class=\"simpletable\">\n",
              "<tr>\n",
              "               <td></td>                 <th>coef</th>     <th>std err</th>      <th>t</th>      <th>P>|t|</th>  <th>[0.025</th>    <th>0.975]</th>  \n",
              "</tr>\n",
              "<tr>\n",
              "  <th>Intercept</th>                  <td>   34.7144</td> <td>    4.633</td> <td>    7.492</td> <td> 0.000</td> <td>   25.611</td> <td>   43.818</td>\n",
              "</tr>\n",
              "<tr>\n",
              "  <th>crime_rate</th>                 <td>   -0.0659</td> <td>    0.030</td> <td>   -2.203</td> <td> 0.028</td> <td>   -0.125</td> <td>   -0.007</td>\n",
              "</tr>\n",
              "<tr>\n",
              "  <th>industrial_perc</th>            <td>   -0.0568</td> <td>    0.057</td> <td>   -1.000</td> <td> 0.318</td> <td>   -0.168</td> <td>    0.055</td>\n",
              "</tr>\n",
              "<tr>\n",
              "  <th>close_to_charles_river</th>     <td>    3.1947</td> <td>    0.885</td> <td>    3.610</td> <td> 0.000</td> <td>    1.456</td> <td>    4.933</td>\n",
              "</tr>\n",
              "<tr>\n",
              "  <th>nitric_oxide</th>               <td>  -15.8670</td> <td>    3.695</td> <td>   -4.294</td> <td> 0.000</td> <td>  -23.126</td> <td>   -8.608</td>\n",
              "</tr>\n",
              "<tr>\n",
              "  <th>avg_num_rooms</th>              <td>    4.1799</td> <td>    0.416</td> <td>   10.036</td> <td> 0.000</td> <td>    3.362</td> <td>    4.998</td>\n",
              "</tr>\n",
              "<tr>\n",
              "  <th>age</th>                        <td>   -0.0064</td> <td>    0.013</td> <td>   -0.475</td> <td> 0.635</td> <td>   -0.033</td> <td>    0.020</td>\n",
              "</tr>\n",
              "<tr>\n",
              "  <th>dist_frm_employment_center</th> <td>   -1.2439</td> <td>    0.187</td> <td>   -6.637</td> <td> 0.000</td> <td>   -1.612</td> <td>   -0.876</td>\n",
              "</tr>\n",
              "<tr>\n",
              "  <th>pupil_teacher_ratio</th>        <td>   -0.9269</td> <td>    0.119</td> <td>   -7.816</td> <td> 0.000</td> <td>   -1.160</td> <td>   -0.694</td>\n",
              "</tr>\n",
              "<tr>\n",
              "  <th>perc_low_income_group</th>      <td>   -0.5322</td> <td>    0.052</td> <td>  -10.289</td> <td> 0.000</td> <td>   -0.634</td> <td>   -0.431</td>\n",
              "</tr>\n",
              "</table>\n",
              "<table class=\"simpletable\">\n",
              "<tr>\n",
              "  <th>Omnibus:</th>       <td>192.569</td> <th>  Durbin-Watson:     </th> <td>   1.030</td> \n",
              "</tr>\n",
              "<tr>\n",
              "  <th>Prob(Omnibus):</th> <td> 0.000</td>  <th>  Jarque-Bera (JB):  </th> <td> 936.024</td> \n",
              "</tr>\n",
              "<tr>\n",
              "  <th>Skew:</th>          <td> 1.623</td>  <th>  Prob(JB):          </th> <td>5.56e-204</td>\n",
              "</tr>\n",
              "<tr>\n",
              "  <th>Kurtosis:</th>      <td> 8.819</td>  <th>  Cond. No.          </th> <td>1.87e+03</td> \n",
              "</tr>\n",
              "</table><br/><br/>Notes:<br/>[1] Standard Errors assume that the covariance matrix of the errors is correctly specified.<br/>[2] The condition number is large, 1.87e+03. This might indicate that there are<br/>strong multicollinearity or other numerical problems."
            ]
          },
          "metadata": {},
          "execution_count": 35
        }
      ]
    },
    {
      "cell_type": "code",
      "source": [],
      "metadata": {
        "id": "EvQ4S_vUel2O"
      },
      "execution_count": null,
      "outputs": []
    },
    {
      "cell_type": "markdown",
      "source": [
        "# New Section"
      ],
      "metadata": {
        "id": "Vwt9xeoEVGLU"
      }
    }
  ]
}