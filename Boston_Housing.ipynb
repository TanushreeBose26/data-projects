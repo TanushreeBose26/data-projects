{
  "nbformat": 4,
  "nbformat_minor": 0,
  "metadata": {
    "colab": {
      "provenance": [],
      "collapsed_sections": [],
      "authorship_tag": "ABX9TyOS0V3vGpcVyKjcELNWoi0/",
      "include_colab_link": true
    },
    "kernelspec": {
      "name": "python3",
      "display_name": "Python 3"
    },
    "language_info": {
      "name": "python"
    }
  },
  "cells": [
    {
      "cell_type": "markdown",
      "metadata": {
        "id": "view-in-github",
        "colab_type": "text"
      },
      "source": [
        "<a href=\"https://colab.research.google.com/github/TanushreeBose26/data-projects/blob/main/Boston_Housing.ipynb\" target=\"_parent\"><img src=\"https://colab.research.google.com/assets/colab-badge.svg\" alt=\"Open In Colab\"/></a>"
      ]
    },
    {
      "cell_type": "code",
      "execution_count": 5,
      "metadata": {
        "id": "7YQCjEv3VD7F"
      },
      "outputs": [],
      "source": [
        "# IMPORTS\n",
        "import pandas as pd\n",
        "import numpy as np\n",
        "import matplotlib.pyplot as plt\n",
        "import seaborn as sns"
      ]
    },
    {
      "cell_type": "code",
      "source": [
        "plt.rcParams['font.size']=14\n",
        "plt.rcParams['axes.grid']=True\n",
        "plt.rcParams['figure.figsize'] = (5,5)"
      ],
      "metadata": {
        "id": "krz1vqeOVc9L"
      },
      "execution_count": 6,
      "outputs": []
    },
    {
      "cell_type": "markdown",
      "source": [
        "We will see the highest corelation of the variables with our target column Price."
      ],
      "metadata": {
        "id": "K3GUmZg2gcFu"
      }
    },
    {
      "cell_type": "code",
      "source": [
        "bos = pd.read_csv('BostonHousing.csv')\n",
        "bos.head()"
      ],
      "metadata": {
        "colab": {
          "base_uri": "https://localhost:8080/",
          "height": 206
        },
        "id": "5Z8nuf90Vc5z",
        "outputId": "c47819cd-fa03-4e67-afd3-b1b2afb4bd89"
      },
      "execution_count": 7,
      "outputs": [
        {
          "output_type": "execute_result",
          "data": {
            "text/plain": [
              "   crime_rate  industrial_perc  close_to_charles_river  nitric_oxide  \\\n",
              "0     0.00632             2.31                       0         0.538   \n",
              "1     0.02731             7.07                       0         0.469   \n",
              "2     0.02729             7.07                       0         0.469   \n",
              "3     0.03237             2.18                       0         0.458   \n",
              "4     0.06905             2.18                       0         0.458   \n",
              "\n",
              "   avg_num_rooms   age  dist_frm_employment_center  pupil_teacher_ratio  \\\n",
              "0          6.575  65.2                      4.0900                 15.3   \n",
              "1          6.421  78.9                      4.9671                 17.8   \n",
              "2          7.185  61.1                      4.9671                 17.8   \n",
              "3          6.998  45.8                      6.0622                 18.7   \n",
              "4          7.147  54.2                      6.0622                 18.7   \n",
              "\n",
              "   perc_low_income_group  avg_house_price  \n",
              "0                   4.98             24.0  \n",
              "1                   9.14             21.6  \n",
              "2                   4.03             34.7  \n",
              "3                   2.94             33.4  \n",
              "4                   5.33             36.2  "
            ],
            "text/html": [
              "\n",
              "  <div id=\"df-a519bbae-d915-4bc2-b676-efc873771e32\">\n",
              "    <div class=\"colab-df-container\">\n",
              "      <div>\n",
              "<style scoped>\n",
              "    .dataframe tbody tr th:only-of-type {\n",
              "        vertical-align: middle;\n",
              "    }\n",
              "\n",
              "    .dataframe tbody tr th {\n",
              "        vertical-align: top;\n",
              "    }\n",
              "\n",
              "    .dataframe thead th {\n",
              "        text-align: right;\n",
              "    }\n",
              "</style>\n",
              "<table border=\"1\" class=\"dataframe\">\n",
              "  <thead>\n",
              "    <tr style=\"text-align: right;\">\n",
              "      <th></th>\n",
              "      <th>crime_rate</th>\n",
              "      <th>industrial_perc</th>\n",
              "      <th>close_to_charles_river</th>\n",
              "      <th>nitric_oxide</th>\n",
              "      <th>avg_num_rooms</th>\n",
              "      <th>age</th>\n",
              "      <th>dist_frm_employment_center</th>\n",
              "      <th>pupil_teacher_ratio</th>\n",
              "      <th>perc_low_income_group</th>\n",
              "      <th>avg_house_price</th>\n",
              "    </tr>\n",
              "  </thead>\n",
              "  <tbody>\n",
              "    <tr>\n",
              "      <th>0</th>\n",
              "      <td>0.00632</td>\n",
              "      <td>2.31</td>\n",
              "      <td>0</td>\n",
              "      <td>0.538</td>\n",
              "      <td>6.575</td>\n",
              "      <td>65.2</td>\n",
              "      <td>4.0900</td>\n",
              "      <td>15.3</td>\n",
              "      <td>4.98</td>\n",
              "      <td>24.0</td>\n",
              "    </tr>\n",
              "    <tr>\n",
              "      <th>1</th>\n",
              "      <td>0.02731</td>\n",
              "      <td>7.07</td>\n",
              "      <td>0</td>\n",
              "      <td>0.469</td>\n",
              "      <td>6.421</td>\n",
              "      <td>78.9</td>\n",
              "      <td>4.9671</td>\n",
              "      <td>17.8</td>\n",
              "      <td>9.14</td>\n",
              "      <td>21.6</td>\n",
              "    </tr>\n",
              "    <tr>\n",
              "      <th>2</th>\n",
              "      <td>0.02729</td>\n",
              "      <td>7.07</td>\n",
              "      <td>0</td>\n",
              "      <td>0.469</td>\n",
              "      <td>7.185</td>\n",
              "      <td>61.1</td>\n",
              "      <td>4.9671</td>\n",
              "      <td>17.8</td>\n",
              "      <td>4.03</td>\n",
              "      <td>34.7</td>\n",
              "    </tr>\n",
              "    <tr>\n",
              "      <th>3</th>\n",
              "      <td>0.03237</td>\n",
              "      <td>2.18</td>\n",
              "      <td>0</td>\n",
              "      <td>0.458</td>\n",
              "      <td>6.998</td>\n",
              "      <td>45.8</td>\n",
              "      <td>6.0622</td>\n",
              "      <td>18.7</td>\n",
              "      <td>2.94</td>\n",
              "      <td>33.4</td>\n",
              "    </tr>\n",
              "    <tr>\n",
              "      <th>4</th>\n",
              "      <td>0.06905</td>\n",
              "      <td>2.18</td>\n",
              "      <td>0</td>\n",
              "      <td>0.458</td>\n",
              "      <td>7.147</td>\n",
              "      <td>54.2</td>\n",
              "      <td>6.0622</td>\n",
              "      <td>18.7</td>\n",
              "      <td>5.33</td>\n",
              "      <td>36.2</td>\n",
              "    </tr>\n",
              "  </tbody>\n",
              "</table>\n",
              "</div>\n",
              "      <button class=\"colab-df-convert\" onclick=\"convertToInteractive('df-a519bbae-d915-4bc2-b676-efc873771e32')\"\n",
              "              title=\"Convert this dataframe to an interactive table.\"\n",
              "              style=\"display:none;\">\n",
              "        \n",
              "  <svg xmlns=\"http://www.w3.org/2000/svg\" height=\"24px\"viewBox=\"0 0 24 24\"\n",
              "       width=\"24px\">\n",
              "    <path d=\"M0 0h24v24H0V0z\" fill=\"none\"/>\n",
              "    <path d=\"M18.56 5.44l.94 2.06.94-2.06 2.06-.94-2.06-.94-.94-2.06-.94 2.06-2.06.94zm-11 1L8.5 8.5l.94-2.06 2.06-.94-2.06-.94L8.5 2.5l-.94 2.06-2.06.94zm10 10l.94 2.06.94-2.06 2.06-.94-2.06-.94-.94-2.06-.94 2.06-2.06.94z\"/><path d=\"M17.41 7.96l-1.37-1.37c-.4-.4-.92-.59-1.43-.59-.52 0-1.04.2-1.43.59L10.3 9.45l-7.72 7.72c-.78.78-.78 2.05 0 2.83L4 21.41c.39.39.9.59 1.41.59.51 0 1.02-.2 1.41-.59l7.78-7.78 2.81-2.81c.8-.78.8-2.07 0-2.86zM5.41 20L4 18.59l7.72-7.72 1.47 1.35L5.41 20z\"/>\n",
              "  </svg>\n",
              "      </button>\n",
              "      \n",
              "  <style>\n",
              "    .colab-df-container {\n",
              "      display:flex;\n",
              "      flex-wrap:wrap;\n",
              "      gap: 12px;\n",
              "    }\n",
              "\n",
              "    .colab-df-convert {\n",
              "      background-color: #E8F0FE;\n",
              "      border: none;\n",
              "      border-radius: 50%;\n",
              "      cursor: pointer;\n",
              "      display: none;\n",
              "      fill: #1967D2;\n",
              "      height: 32px;\n",
              "      padding: 0 0 0 0;\n",
              "      width: 32px;\n",
              "    }\n",
              "\n",
              "    .colab-df-convert:hover {\n",
              "      background-color: #E2EBFA;\n",
              "      box-shadow: 0px 1px 2px rgba(60, 64, 67, 0.3), 0px 1px 3px 1px rgba(60, 64, 67, 0.15);\n",
              "      fill: #174EA6;\n",
              "    }\n",
              "\n",
              "    [theme=dark] .colab-df-convert {\n",
              "      background-color: #3B4455;\n",
              "      fill: #D2E3FC;\n",
              "    }\n",
              "\n",
              "    [theme=dark] .colab-df-convert:hover {\n",
              "      background-color: #434B5C;\n",
              "      box-shadow: 0px 1px 3px 1px rgba(0, 0, 0, 0.15);\n",
              "      filter: drop-shadow(0px 1px 2px rgba(0, 0, 0, 0.3));\n",
              "      fill: #FFFFFF;\n",
              "    }\n",
              "  </style>\n",
              "\n",
              "      <script>\n",
              "        const buttonEl =\n",
              "          document.querySelector('#df-a519bbae-d915-4bc2-b676-efc873771e32 button.colab-df-convert');\n",
              "        buttonEl.style.display =\n",
              "          google.colab.kernel.accessAllowed ? 'block' : 'none';\n",
              "\n",
              "        async function convertToInteractive(key) {\n",
              "          const element = document.querySelector('#df-a519bbae-d915-4bc2-b676-efc873771e32');\n",
              "          const dataTable =\n",
              "            await google.colab.kernel.invokeFunction('convertToInteractive',\n",
              "                                                     [key], {});\n",
              "          if (!dataTable) return;\n",
              "\n",
              "          const docLinkHtml = 'Like what you see? Visit the ' +\n",
              "            '<a target=\"_blank\" href=https://colab.research.google.com/notebooks/data_table.ipynb>data table notebook</a>'\n",
              "            + ' to learn more about interactive tables.';\n",
              "          element.innerHTML = '';\n",
              "          dataTable['output_type'] = 'display_data';\n",
              "          await google.colab.output.renderOutput(dataTable, element);\n",
              "          const docLink = document.createElement('div');\n",
              "          docLink.innerHTML = docLinkHtml;\n",
              "          element.appendChild(docLink);\n",
              "        }\n",
              "      </script>\n",
              "    </div>\n",
              "  </div>\n",
              "  "
            ]
          },
          "metadata": {},
          "execution_count": 7
        }
      ]
    },
    {
      "cell_type": "markdown",
      "source": [
        "we are going tocreat the correlation of all our variables with our target column 'Price'.\n",
        "Lets choose one best column to create simple linear relation with Avg House Price\n"
      ],
      "metadata": {
        "id": "kYW6kkaGV4-0"
      }
    },
    {
      "cell_type": "code",
      "source": [
        "bos.corrwith(bos.avg_house_price)"
      ],
      "metadata": {
        "colab": {
          "base_uri": "https://localhost:8080/"
        },
        "id": "wTvFa7zTVc3r",
        "outputId": "6f2775bf-339e-4795-cc1c-6d973e38e814"
      },
      "execution_count": 8,
      "outputs": [
        {
          "output_type": "execute_result",
          "data": {
            "text/plain": [
              "crime_rate                   -0.388305\n",
              "industrial_perc              -0.483725\n",
              "close_to_charles_river        0.175260\n",
              "nitric_oxide                 -0.427321\n",
              "avg_num_rooms                 0.695360\n",
              "age                          -0.376955\n",
              "dist_frm_employment_center    0.249929\n",
              "pupil_teacher_ratio          -0.507787\n",
              "perc_low_income_group        -0.737663\n",
              "avg_house_price               1.000000\n",
              "dtype: float64"
            ]
          },
          "metadata": {},
          "execution_count": 8
        }
      ]
    },
    {
      "cell_type": "markdown",
      "source": [
        "The column which has the highest corelation with our target variable is perc_low_income_group (as we take the absolute value)"
      ],
      "metadata": {
        "id": "WcHNmh9whITI"
      }
    },
    {
      "cell_type": "code",
      "source": [
        "plt.scatter(bos.perc_low_income_group, bos.avg_house_price, c='grey', marker = 'o', s=50)\n",
        "plt.xlabel('perc_low_income_group')\n",
        "plt.ylabel('avg_house_price')\n",
        "plt.title('Boston house price Vs low_income')\n",
        "plt.show()"
      ],
      "metadata": {
        "colab": {
          "base_uri": "https://localhost:8080/",
          "height": 362
        },
        "id": "GQX02bEGVc0I",
        "outputId": "6cb535da-b7c6-49ca-cb65-ae60d5be7f63"
      },
      "execution_count": 9,
      "outputs": [
        {
          "output_type": "display_data",
          "data": {
            "text/plain": [
              "<Figure size 360x360 with 1 Axes>"
            ],
            "image/png": "[encoded data removed]"
          },
          "metadata": {
            "needs_background": "light"
          }
        }
      ]
    },
    {
      "cell_type": "markdown",
      "source": [
        "It's not a perfect line as the points are scattered around.\n",
        "\n",
        "For the equation y=mx+c+error, we will see the best fit line.\n",
        "\n",
        "we will see which value has the We will randomely choose three different values of the variable which has the highest correlation with our target variable."
      ],
      "metadata": {
        "id": "6-6oCt-sh7oK"
      }
    },
    {
      "cell_type": "markdown",
      "source": [
        "Let's find the best fit line (equation) given the data"
      ],
      "metadata": {
        "id": "TpEWvmWZWQsZ"
      }
    },
    {
      "cell_type": "code",
      "source": [
        "plt.figure(figsize=(7,7))\n",
        "plt.scatter(bos.perc_low_income_group, bos.avg_house_price, c='grey', marker = 'o', s=50)\n",
        "y_pred = -1.5*bos.perc_low_income_group + 40\n",
        "plt.plot(bos.perc_low_income_group, y_pred, c='r')\n",
        "y_pred = -2.5*bos.perc_low_income_group + 60\n",
        "plt.plot(bos.perc_low_income_group, y_pred, c='b')\n",
        "y_pred = -2.5*bos.perc_low_income_group + 50\n",
        "plt.plot(bos.perc_low_income_group, y_pred, c='g')\n",
        "\n",
        "plt.ylim((0, 60))\n",
        "plt.xlabel('perc_low_income_group')\n",
        "plt.ylabel('avg_house_price')\n",
        "plt.title('Boston house price Vs low_income')\n",
        "plt.show()"
      ],
      "metadata": {
        "colab": {
          "base_uri": "https://localhost:8080/",
          "height": 471
        },
        "id": "ph_mE8yRVcwX",
        "outputId": "700cb5e0-9967-4774-d729-ab646a260334"
      },
      "execution_count": 10,
      "outputs": [
        {
          "output_type": "display_data",
          "data": {
            "text/plain": [
              "<Figure size 504x504 with 1 Axes>"
            ],
            "image/png": "[encoded data removed]"
          },
          "metadata": {
            "needs_background": "light"
          }
        }
      ]
    },
    {
      "cell_type": "markdown",
      "source": [
        "The way to find the best line is to see which line has the least amount of errors.\n",
        "The best fit line will pass through the mean of the X and Y value."
      ],
      "metadata": {
        "id": "KwAxJk_nvwHK"
      }
    },
    {
      "cell_type": "markdown",
      "source": [
        "Let's get the mean of X and Y"
      ],
      "metadata": {
        "id": "0KvrI4jVWmlP"
      }
    },
    {
      "cell_type": "code",
      "source": [
        "x_mean = bos.perc_low_income_group.mean()\n",
        "x_mean"
      ],
      "metadata": {
        "colab": {
          "base_uri": "https://localhost:8080/"
        },
        "id": "pvNVGb4JWXvZ",
        "outputId": "7ab03642-2c5c-4281-ecb8-ea303fef532a"
      },
      "execution_count": 11,
      "outputs": [
        {
          "output_type": "execute_result",
          "data": {
            "text/plain": [
              "12.653063241106722"
            ]
          },
          "metadata": {},
          "execution_count": 11
        }
      ]
    },
    {
      "cell_type": "code",
      "source": [
        "y_mean = bos.avg_house_price.mean()\n",
        "y_mean"
      ],
      "metadata": {
        "colab": {
          "base_uri": "https://localhost:8080/"
        },
        "id": "69DzRzUnWXsB",
        "outputId": "e3df81e1-73eb-470c-ffff-ea5d328045df"
      },
      "execution_count": 12,
      "outputs": [
        {
          "output_type": "execute_result",
          "data": {
            "text/plain": [
              "22.532806324110677"
            ]
          },
          "metadata": {},
          "execution_count": 12
        }
      ]
    },
    {
      "cell_type": "markdown",
      "source": [
        "Now we will add the X and Y mean to our scatter plot and get the point and denote it with a star."
      ],
      "metadata": {
        "id": "B6ZDEVF1xiNl"
      }
    },
    {
      "cell_type": "code",
      "source": [
        "plt.figure(figsize=(7,7))\n",
        "plt.scatter(bos.perc_low_income_group, bos.avg_house_price, c='grey', marker = 'o', s=50)\n",
        "y_pred = -1.5*bos.perc_low_income_group + 40\n",
        "plt.plot(bos.perc_low_income_group, y_pred, c='r')\n",
        "y_pred = -2.5*bos.perc_low_income_group + 60\n",
        "plt.plot(bos.perc_low_income_group, y_pred, c='b')\n",
        "y_pred = -2.5*bos.perc_low_income_group + 50\n",
        "plt.plot(bos.perc_low_income_group, y_pred, c='g')\n",
        "plt.scatter(x_mean, y_mean, c='k', marker = '*', s=400)\n",
        "\n",
        "plt.ylim((0, 60))\n",
        "plt.xlabel('perc_low_income_group')\n",
        "plt.ylabel('avg_house_price')\n",
        "plt.title('Boston house price Vs low_income')\n",
        "plt.show()"
      ],
      "metadata": {
        "colab": {
          "base_uri": "https://localhost:8080/",
          "height": 471
        },
        "id": "nfJZUUbeWXpE",
        "outputId": "8e744480-63e0-4864-a8ad-24acc2fcf366"
      },
      "execution_count": 13,
      "outputs": [
        {
          "output_type": "display_data",
          "data": {
            "text/plain": [
              "<Figure size 504x504 with 1 Axes>"
            ],
            "image/png": "[encoded data removed]"
          },
          "metadata": {
            "needs_background": "light"
          }
        }
      ]
    },
    {
      "cell_type": "markdown",
      "source": [
        "hence we can see that our best fit line is red which is passing through the star.\n",
        "\n",
        "Now let's solve the slope.\n"
      ],
      "metadata": {
        "id": "6IfyY9mJWyji"
      }
    },
    {
      "cell_type": "code",
      "source": [
        "cov_mat = np.cov(bos.perc_low_income_group, bos.avg_house_price, ddof=1)\n",
        "cov_mat"
      ],
      "metadata": {
        "colab": {
          "base_uri": "https://localhost:8080/"
        },
        "id": "2SHPWl-1WXmY",
        "outputId": "4fed83b6-05b0-4408-e92c-0e9d4d4638c7"
      },
      "execution_count": 14,
      "outputs": [
        {
          "output_type": "execute_result",
          "data": {
            "text/plain": [
              "array([[ 50.99475951, -48.44753832],\n",
              "       [-48.44753832,  84.58672359]])"
            ]
          },
          "metadata": {},
          "execution_count": 14
        }
      ]
    },
    {
      "cell_type": "markdown",
      "source": [
        "*The first value 50.9947 tells us the variance of perc_low_income_group.\n",
        "\n",
        "*-48.447 is the covariance of the avg_house_price.\n",
        "\n",
        "*In second line -48.447 is again the covariance of the perc_low_income_group.\n",
        "\n",
        "*and the second line second value 84.5867 is the variance of avg_house_income."
      ],
      "metadata": {
        "id": "QjTEJYVjyk4p"
      }
    },
    {
      "cell_type": "code",
      "source": [
        "m = cov_mat[0, 1] / cov_mat[0, 0]\n",
        "m"
      ],
      "metadata": {
        "colab": {
          "base_uri": "https://localhost:8080/"
        },
        "id": "-Vypxcm_WXj1",
        "outputId": "321e5c61-3bc2-4792-cca6-4812a2a31fd8"
      },
      "execution_count": 15,
      "outputs": [
        {
          "output_type": "execute_result",
          "data": {
            "text/plain": [
              "-0.950049353757991"
            ]
          },
          "metadata": {},
          "execution_count": 15
        }
      ]
    },
    {
      "cell_type": "markdown",
      "source": [
        "The above is our slope value."
      ],
      "metadata": {
        "id": "lvJNj4470C_2"
      }
    },
    {
      "cell_type": "code",
      "source": [
        "c = y_mean - m*x_mean\n",
        "c"
      ],
      "metadata": {
        "colab": {
          "base_uri": "https://localhost:8080/"
        },
        "id": "crS2zsdvWXgK",
        "outputId": "6cfe1872-b183-47ab-cb37-1e65bea3e5b5"
      },
      "execution_count": 16,
      "outputs": [
        {
          "output_type": "execute_result",
          "data": {
            "text/plain": [
              "34.55384087938311"
            ]
          },
          "metadata": {},
          "execution_count": 16
        }
      ]
    },
    {
      "cell_type": "markdown",
      "source": [
        "The above is our intercept value.\n",
        "\n",
        "**Now, let's plot the final graph** "
      ],
      "metadata": {
        "id": "6d-q5bez0R7Y"
      }
    },
    {
      "cell_type": "code",
      "source": [
        "plt.figure(figsize=(7,7))\n",
        "plt.scatter(bos.perc_low_income_group, bos.avg_house_price, c='grey', marker = 'o', s=50)\n",
        "y_pred = -1.5*bos.perc_low_income_group + 40\n",
        "plt.plot(bos.perc_low_income_group, y_pred, c='r')\n",
        "y_pred = -2.5*bos.perc_low_income_group + 60\n",
        "plt.plot(bos.perc_low_income_group, y_pred, c='b')\n",
        "y_pred = -2.5*bos.perc_low_income_group + 50\n",
        "plt.plot(bos.perc_low_income_group, y_pred, c='g')\n",
        "\n",
        "y_pred = m*bos.perc_low_income_group + c # Our final prediction\n",
        "plt.plot(bos.perc_low_income_group, y_pred, c='yellow', lw =3)\n",
        "\n",
        "plt.scatter(x_mean, y_mean, c='k', marker = '*', s=400)\n",
        "\n",
        "plt.ylim((0, 60))\n",
        "plt.xlabel('perc_low_income_group')\n",
        "plt.ylabel('avg_house_price')\n",
        "plt.title('Boston house price Vs low_income')\n",
        "plt.show()"
      ],
      "metadata": {
        "colab": {
          "base_uri": "https://localhost:8080/",
          "height": 471
        },
        "id": "yInGQLKGW7vJ",
        "outputId": "4a67609b-ec71-4cb7-ea6a-dd5e48c6cf13"
      },
      "execution_count": 17,
      "outputs": [
        {
          "output_type": "display_data",
          "data": {
            "text/plain": [
              "<Figure size 504x504 with 1 Axes>"
            ],
            "image/png": "[encoded data removed]"
          },
          "metadata": {
            "needs_background": "light"
          }
        }
      ]
    },
    {
      "cell_type": "markdown",
      "source": [
        "Here, yellow line is our final line. it is the line with the lease no. of errors. and it is passing through the star we plotted.\n",
        "\n",
        "**Lets evaluate the quality of our prediction**"
      ],
      "metadata": {
        "id": "ESeGg43oXDbd"
      }
    },
    {
      "cell_type": "code",
      "source": [
        "y_actual = bos.avg_house_price\n",
        "y_pred = m*bos.perc_low_income_group + c # Our final prediction\n",
        "n = len(y_actual)"
      ],
      "metadata": {
        "id": "oWt2pOiWW7r4"
      },
      "execution_count": 18,
      "outputs": []
    },
    {
      "cell_type": "code",
      "source": [
        "mse = np.sum((y_actual-y_pred)**2)/n\n",
        "mse"
      ],
      "metadata": {
        "colab": {
          "base_uri": "https://localhost:8080/"
        },
        "id": "KmkYtHtGW7ou",
        "outputId": "314bc3a9-5b29-4d6e-82a0-ead331eab56d"
      },
      "execution_count": 19,
      "outputs": [
        {
          "output_type": "execute_result",
          "data": {
            "text/plain": [
              "38.48296722989415"
            ]
          },
          "metadata": {},
          "execution_count": 19
        }
      ]
    },
    {
      "cell_type": "code",
      "source": [
        "mae = np.sum(np.abs(y_actual-y_pred))/n\n",
        "mae"
      ],
      "metadata": {
        "colab": {
          "base_uri": "https://localhost:8080/"
        },
        "id": "nh51FweRW7lh",
        "outputId": "35886157-1027-40bd-8bb1-6a14b221618e"
      },
      "execution_count": 20,
      "outputs": [
        {
          "output_type": "execute_result",
          "data": {
            "text/plain": [
              "4.505281166250568"
            ]
          },
          "metadata": {},
          "execution_count": 20
        }
      ]
    },
    {
      "cell_type": "code",
      "source": [
        "rmse = np.sqrt(mse)\n",
        "rmse"
      ],
      "metadata": {
        "colab": {
          "base_uri": "https://localhost:8080/"
        },
        "id": "7THPGTt9W7iY",
        "outputId": "f7005b6c-8a00-45b1-9fc3-316ae5c6a4cf"
      },
      "execution_count": 21,
      "outputs": [
        {
          "output_type": "execute_result",
          "data": {
            "text/plain": [
              "6.20346413142642"
            ]
          },
          "metadata": {},
          "execution_count": 21
        }
      ]
    },
    {
      "cell_type": "code",
      "source": [
        "ssr = np.sum((y_pred- y_mean)**2)\n",
        "sse = np.sum((y_actual-y_pred)**2)\n",
        "sst = np.sum((y_actual-y_mean)**2)"
      ],
      "metadata": {
        "id": "Y0TYLKqmW7gN"
      },
      "execution_count": 22,
      "outputs": []
    },
    {
      "cell_type": "code",
      "source": [
        "r_square  = ssr/sst\n",
        "r_square"
      ],
      "metadata": {
        "colab": {
          "base_uri": "https://localhost:8080/"
        },
        "id": "q_w3ssXMW7dK",
        "outputId": "e3d4e638-2c94-44f9-e531-455120031335"
      },
      "execution_count": 23,
      "outputs": [
        {
          "output_type": "execute_result",
          "data": {
            "text/plain": [
              "0.5441462975864798"
            ]
          },
          "metadata": {},
          "execution_count": 23
        }
      ]
    },
    {
      "cell_type": "code",
      "source": [
        "r_square  = ssr/(ssr +sse)\n",
        "r_square"
      ],
      "metadata": {
        "colab": {
          "base_uri": "https://localhost:8080/"
        },
        "id": "XAohx_koW7ZE",
        "outputId": "19f394b3-cc1f-44d2-945c-9a710bd89886"
      },
      "execution_count": 24,
      "outputs": [
        {
          "output_type": "execute_result",
          "data": {
            "text/plain": [
              "0.5441462975864798"
            ]
          },
          "metadata": {},
          "execution_count": 24
        }
      ]
    },
    {
      "cell_type": "code",
      "source": [
        "r_square  = 1-(sse/sst)\n",
        "r_square"
      ],
      "metadata": {
        "colab": {
          "base_uri": "https://localhost:8080/"
        },
        "id": "KczKBv5VcrIJ",
        "outputId": "52dd685f-5765-445a-b368-dc2fd2bf3c3c"
      },
      "execution_count": 25,
      "outputs": [
        {
          "output_type": "execute_result",
          "data": {
            "text/plain": [
              "0.5441462975864797"
            ]
          },
          "metadata": {},
          "execution_count": 25
        }
      ]
    },
    {
      "cell_type": "code",
      "source": [],
      "metadata": {
        "id": "zUXpjth-cq-e"
      },
      "execution_count": 25,
      "outputs": []
    },
    {
      "cell_type": "markdown",
      "source": [
        "Let's see other variables now."
      ],
      "metadata": {
        "id": "xZC7kpPED4rl"
      }
    },
    {
      "cell_type": "code",
      "source": [
        "import statsmodels.formula.api as SM"
      ],
      "metadata": {
        "id": "Ngyh4BiRc1WX"
      },
      "execution_count": 26,
      "outputs": []
    },
    {
      "cell_type": "code",
      "source": [
        "formula_MLR ='avg_house_price~crime_rate+industrial_perc+close_to_charles_river+nitric_oxide+avg_num_rooms+age+dist_frm_employment_center+pupil_teacher_ratio+perc_low_income_group'"
      ],
      "metadata": {
        "id": "9paEgixXc1S2"
      },
      "execution_count": 27,
      "outputs": []
    },
    {
      "cell_type": "code",
      "source": [
        "model = SM.ols(formula = formula_MLR, data=bos).fit()\n",
        "model.summary()"
      ],
      "metadata": {
        "colab": {
          "base_uri": "https://localhost:8080/",
          "height": 657
        },
        "id": "dgz5eQUHc1P0",
        "outputId": "48463eb1-debd-4126-c110-74482987c93b"
      },
      "execution_count": 28,
      "outputs": [
        {
          "output_type": "execute_result",
          "data": {
            "text/plain": [
              "<class 'statsmodels.iolib.summary.Summary'>\n",
              "\"\"\"\n",
              "                            OLS Regression Results                            \n",
              "==============================================================================\n",
              "Dep. Variable:        avg_house_price   R-squared:                       0.719\n",
              "Model:                            OLS   Adj. R-squared:                  0.714\n",
              "Method:                 Least Squares   F-statistic:                     141.1\n",
              "Date:                Mon, 05 Sep 2022   Prob (F-statistic):          1.09e-130\n",
              "Time:                        18:07:51   Log-Likelihood:                -1518.9\n",
              "No. Observations:                 506   AIC:                             3058.\n",
              "Df Residuals:                     496   BIC:                             3100.\n",
              "Df Model:                           9                                         \n",
              "Covariance Type:            nonrobust                                         \n",
              "==============================================================================================\n",
              "                                 coef    std err          t      P>|t|      [0.025      0.975]\n",
              "----------------------------------------------------------------------------------------------\n",
              "Intercept                     34.7144      4.633      7.492      0.000      25.611      43.818\n",
              "crime_rate                    -0.0659      0.030     -2.203      0.028      -0.125      -0.007\n",
              "industrial_perc               -0.0568      0.057     -1.000      0.318      -0.168       0.055\n",
              "close_to_charles_river         3.1947      0.885      3.610      0.000       1.456       4.933\n",
              "nitric_oxide                 -15.8670      3.695     -4.294      0.000     -23.126      -8.608\n",
              "avg_num_rooms                  4.1799      0.416     10.036      0.000       3.362       4.998\n",
              "age                           -0.0064      0.013     -0.475      0.635      -0.033       0.020\n",
              "dist_frm_employment_center    -1.2439      0.187     -6.637      0.000      -1.612      -0.876\n",
              "pupil_teacher_ratio           -0.9269      0.119     -7.816      0.000      -1.160      -0.694\n",
              "perc_low_income_group         -0.5322      0.052    -10.289      0.000      -0.634      -0.431\n",
              "==============================================================================\n",
              "Omnibus:                      192.569   Durbin-Watson:                   1.030\n",
              "Prob(Omnibus):                  0.000   Jarque-Bera (JB):              936.024\n",
              "Skew:                           1.623   Prob(JB):                    5.56e-204\n",
              "Kurtosis:                       8.819   Cond. No.                     1.87e+03\n",
              "==============================================================================\n",
              "\n",
              "Notes:\n",
              "[1] Standard Errors assume that the covariance matrix of the errors is correctly specified.\n",
              "[2] The condition number is large, 1.87e+03. This might indicate that there are\n",
              "strong multicollinearity or other numerical problems.\n",
              "\"\"\""
            ],
            "text/html": [
              "<table class=\"simpletable\">\n",
              "<caption>OLS Regression Results</caption>\n",
              "<tr>\n",
              "  <th>Dep. Variable:</th>     <td>avg_house_price</td> <th>  R-squared:         </th> <td>   0.719</td> \n",
              "</tr>\n",
              "<tr>\n",
              "  <th>Model:</th>                   <td>OLS</td>       <th>  Adj. R-squared:    </th> <td>   0.714</td> \n",
              "</tr>\n",
              "<tr>\n",
              "  <th>Method:</th>             <td>Least Squares</td>  <th>  F-statistic:       </th> <td>   141.1</td> \n",
              "</tr>\n",
              "<tr>\n",
              "  <th>Date:</th>             <td>Mon, 05 Sep 2022</td> <th>  Prob (F-statistic):</th> <td>1.09e-130</td>\n",
              "</tr>\n",
              "<tr>\n",
              "  <th>Time:</th>                 <td>18:07:51</td>     <th>  Log-Likelihood:    </th> <td> -1518.9</td> \n",
              "</tr>\n",
              "<tr>\n",
              "  <th>No. Observations:</th>      <td>   506</td>      <th>  AIC:               </th> <td>   3058.</td> \n",
              "</tr>\n",
              "<tr>\n",
              "  <th>Df Residuals:</th>          <td>   496</td>      <th>  BIC:               </th> <td>   3100.</td> \n",
              "</tr>\n",
              "<tr>\n",
              "  <th>Df Model:</th>              <td>     9</td>      <th>                     </th>     <td> </td>    \n",
              "</tr>\n",
              "<tr>\n",
              "  <th>Covariance Type:</th>      <td>nonrobust</td>    <th>                     </th>     <td> </td>    \n",
              "</tr>\n",
              "</table>\n",
              "<table class=\"simpletable\">\n",
              "<tr>\n",
              "               <td></td>                 <th>coef</th>     <th>std err</th>      <th>t</th>      <th>P>|t|</th>  <th>[0.025</th>    <th>0.975]</th>  \n",
              "</tr>\n",
              "<tr>\n",
              "  <th>Intercept</th>                  <td>   34.7144</td> <td>    4.633</td> <td>    7.492</td> <td> 0.000</td> <td>   25.611</td> <td>   43.818</td>\n",
              "</tr>\n",
              "<tr>\n",
              "  <th>crime_rate</th>                 <td>   -0.0659</td> <td>    0.030</td> <td>   -2.203</td> <td> 0.028</td> <td>   -0.125</td> <td>   -0.007</td>\n",
              "</tr>\n",
              "<tr>\n",
              "  <th>industrial_perc</th>            <td>   -0.0568</td> <td>    0.057</td> <td>   -1.000</td> <td> 0.318</td> <td>   -0.168</td> <td>    0.055</td>\n",
              "</tr>\n",
              "<tr>\n",
              "  <th>close_to_charles_river</th>     <td>    3.1947</td> <td>    0.885</td> <td>    3.610</td> <td> 0.000</td> <td>    1.456</td> <td>    4.933</td>\n",
              "</tr>\n",
              "<tr>\n",
              "  <th>nitric_oxide</th>               <td>  -15.8670</td> <td>    3.695</td> <td>   -4.294</td> <td> 0.000</td> <td>  -23.126</td> <td>   -8.608</td>\n",
              "</tr>\n",
              "<tr>\n",
              "  <th>avg_num_rooms</th>              <td>    4.1799</td> <td>    0.416</td> <td>   10.036</td> <td> 0.000</td> <td>    3.362</td> <td>    4.998</td>\n",
              "</tr>\n",
              "<tr>\n",
              "  <th>age</th>                        <td>   -0.0064</td> <td>    0.013</td> <td>   -0.475</td> <td> 0.635</td> <td>   -0.033</td> <td>    0.020</td>\n",
              "</tr>\n",
              "<tr>\n",
              "  <th>dist_frm_employment_center</th> <td>   -1.2439</td> <td>    0.187</td> <td>   -6.637</td> <td> 0.000</td> <td>   -1.612</td> <td>   -0.876</td>\n",
              "</tr>\n",
              "<tr>\n",
              "  <th>pupil_teacher_ratio</th>        <td>   -0.9269</td> <td>    0.119</td> <td>   -7.816</td> <td> 0.000</td> <td>   -1.160</td> <td>   -0.694</td>\n",
              "</tr>\n",
              "<tr>\n",
              "  <th>perc_low_income_group</th>      <td>   -0.5322</td> <td>    0.052</td> <td>  -10.289</td> <td> 0.000</td> <td>   -0.634</td> <td>   -0.431</td>\n",
              "</tr>\n",
              "</table>\n",
              "<table class=\"simpletable\">\n",
              "<tr>\n",
              "  <th>Omnibus:</th>       <td>192.569</td> <th>  Durbin-Watson:     </th> <td>   1.030</td> \n",
              "</tr>\n",
              "<tr>\n",
              "  <th>Prob(Omnibus):</th> <td> 0.000</td>  <th>  Jarque-Bera (JB):  </th> <td> 936.024</td> \n",
              "</tr>\n",
              "<tr>\n",
              "  <th>Skew:</th>          <td> 1.623</td>  <th>  Prob(JB):          </th> <td>5.56e-204</td>\n",
              "</tr>\n",
              "<tr>\n",
              "  <th>Kurtosis:</th>      <td> 8.819</td>  <th>  Cond. No.          </th> <td>1.87e+03</td> \n",
              "</tr>\n",
              "</table><br/><br/>Notes:<br/>[1] Standard Errors assume that the covariance matrix of the errors is correctly specified.<br/>[2] The condition number is large, 1.87e+03. This might indicate that there are<br/>strong multicollinearity or other numerical problems."
            ]
          },
          "metadata": {},
          "execution_count": 28
        }
      ]
    },
    {
      "cell_type": "markdown",
      "source": [
        "* avg_num_rooms has positive coefficient as expected.\n",
        "* perc_low_income_group has negative coefficient.\n",
        "* here we cant directly compare the coefficient value of nitric_oxide with the price because it has decimal values and avg_house_price has tens values as well. as we have not scaled our values.\n"
      ],
      "metadata": {
        "id": "tkC1BsZdETzT"
      }
    },
    {
      "cell_type": "code",
      "source": [
        "rsqr = model.rsquared\n",
        "rsqr"
      ],
      "metadata": {
        "colab": {
          "base_uri": "https://localhost:8080/"
        },
        "id": "rvjiHKTIc1MU",
        "outputId": "acd8a34f-e90a-45fc-a6a3-a84018a2652b"
      },
      "execution_count": 29,
      "outputs": [
        {
          "output_type": "execute_result",
          "data": {
            "text/plain": [
              "0.7191918531783886"
            ]
          },
          "metadata": {},
          "execution_count": 29
        }
      ]
    },
    {
      "cell_type": "code",
      "source": [
        "n"
      ],
      "metadata": {
        "colab": {
          "base_uri": "https://localhost:8080/"
        },
        "id": "iZizM9vTemR9",
        "outputId": "60042b62-7c29-4283-dbc2-ded75828a3b5"
      },
      "execution_count": 30,
      "outputs": [
        {
          "output_type": "execute_result",
          "data": {
            "text/plain": [
              "506"
            ]
          },
          "metadata": {},
          "execution_count": 30
        }
      ]
    },
    {
      "cell_type": "code",
      "source": [
        "k = 9"
      ],
      "metadata": {
        "id": "WTiaPbXnemOm"
      },
      "execution_count": 31,
      "outputs": []
    },
    {
      "cell_type": "code",
      "source": [
        "rsqr_adj = 1 - ( (1-rsqr)* (n-1)/(n-k-1) )\n",
        "rsqr_adj"
      ],
      "metadata": {
        "colab": {
          "base_uri": "https://localhost:8080/"
        },
        "id": "AfwJlR_vemLq",
        "outputId": "bd2fe972-9ca9-42de-ee52-f727ec284893"
      },
      "execution_count": 32,
      "outputs": [
        {
          "output_type": "execute_result",
          "data": {
            "text/plain": [
              "0.7140965440626739"
            ]
          },
          "metadata": {},
          "execution_count": 32
        }
      ]
    },
    {
      "cell_type": "code",
      "source": [
        "model.summary()"
      ],
      "metadata": {
        "colab": {
          "base_uri": "https://localhost:8080/",
          "height": 657
        },
        "id": "SXr_6UkxemIa",
        "outputId": "8831e748-a8b5-42c5-c77f-e1384666dceb"
      },
      "execution_count": 33,
      "outputs": [
        {
          "output_type": "execute_result",
          "data": {
            "text/plain": [
              "<class 'statsmodels.iolib.summary.Summary'>\n",
              "\"\"\"\n",
              "                            OLS Regression Results                            \n",
              "==============================================================================\n",
              "Dep. Variable:        avg_house_price   R-squared:                       0.719\n",
              "Model:                            OLS   Adj. R-squared:                  0.714\n",
              "Method:                 Least Squares   F-statistic:                     141.1\n",
              "Date:                Mon, 05 Sep 2022   Prob (F-statistic):          1.09e-130\n",
              "Time:                        18:07:51   Log-Likelihood:                -1518.9\n",
              "No. Observations:                 506   AIC:                             3058.\n",
              "Df Residuals:                     496   BIC:                             3100.\n",
              "Df Model:                           9                                         \n",
              "Covariance Type:            nonrobust                                         \n",
              "==============================================================================================\n",
              "                                 coef    std err          t      P>|t|      [0.025      0.975]\n",
              "----------------------------------------------------------------------------------------------\n",
              "Intercept                     34.7144      4.633      7.492      0.000      25.611      43.818\n",
              "crime_rate                    -0.0659      0.030     -2.203      0.028      -0.125      -0.007\n",
              "industrial_perc               -0.0568      0.057     -1.000      0.318      -0.168       0.055\n",
              "close_to_charles_river         3.1947      0.885      3.610      0.000       1.456       4.933\n",
              "nitric_oxide                 -15.8670      3.695     -4.294      0.000     -23.126      -8.608\n",
              "avg_num_rooms                  4.1799      0.416     10.036      0.000       3.362       4.998\n",
              "age                           -0.0064      0.013     -0.475      0.635      -0.033       0.020\n",
              "dist_frm_employment_center    -1.2439      0.187     -6.637      0.000      -1.612      -0.876\n",
              "pupil_teacher_ratio           -0.9269      0.119     -7.816      0.000      -1.160      -0.694\n",
              "perc_low_income_group         -0.5322      0.052    -10.289      0.000      -0.634      -0.431\n",
              "==============================================================================\n",
              "Omnibus:                      192.569   Durbin-Watson:                   1.030\n",
              "Prob(Omnibus):                  0.000   Jarque-Bera (JB):              936.024\n",
              "Skew:                           1.623   Prob(JB):                    5.56e-204\n",
              "Kurtosis:                       8.819   Cond. No.                     1.87e+03\n",
              "==============================================================================\n",
              "\n",
              "Notes:\n",
              "[1] Standard Errors assume that the covariance matrix of the errors is correctly specified.\n",
              "[2] The condition number is large, 1.87e+03. This might indicate that there are\n",
              "strong multicollinearity or other numerical problems.\n",
              "\"\"\""
            ],
            "text/html": [
              "<table class=\"simpletable\">\n",
              "<caption>OLS Regression Results</caption>\n",
              "<tr>\n",
              "  <th>Dep. Variable:</th>     <td>avg_house_price</td> <th>  R-squared:         </th> <td>   0.719</td> \n",
              "</tr>\n",
              "<tr>\n",
              "  <th>Model:</th>                   <td>OLS</td>       <th>  Adj. R-squared:    </th> <td>   0.714</td> \n",
              "</tr>\n",
              "<tr>\n",
              "  <th>Method:</th>             <td>Least Squares</td>  <th>  F-statistic:       </th> <td>   141.1</td> \n",
              "</tr>\n",
              "<tr>\n",
              "  <th>Date:</th>             <td>Mon, 05 Sep 2022</td> <th>  Prob (F-statistic):</th> <td>1.09e-130</td>\n",
              "</tr>\n",
              "<tr>\n",
              "  <th>Time:</th>                 <td>18:07:51</td>     <th>  Log-Likelihood:    </th> <td> -1518.9</td> \n",
              "</tr>\n",
              "<tr>\n",
              "  <th>No. Observations:</th>      <td>   506</td>      <th>  AIC:               </th> <td>   3058.</td> \n",
              "</tr>\n",
              "<tr>\n",
              "  <th>Df Residuals:</th>          <td>   496</td>      <th>  BIC:               </th> <td>   3100.</td> \n",
              "</tr>\n",
              "<tr>\n",
              "  <th>Df Model:</th>              <td>     9</td>      <th>                     </th>     <td> </td>    \n",
              "</tr>\n",
              "<tr>\n",
              "  <th>Covariance Type:</th>      <td>nonrobust</td>    <th>                     </th>     <td> </td>    \n",
              "</tr>\n",
              "</table>\n",
              "<table class=\"simpletable\">\n",
              "<tr>\n",
              "               <td></td>                 <th>coef</th>     <th>std err</th>      <th>t</th>      <th>P>|t|</th>  <th>[0.025</th>    <th>0.975]</th>  \n",
              "</tr>\n",
              "<tr>\n",
              "  <th>Intercept</th>                  <td>   34.7144</td> <td>    4.633</td> <td>    7.492</td> <td> 0.000</td> <td>   25.611</td> <td>   43.818</td>\n",
              "</tr>\n",
              "<tr>\n",
              "  <th>crime_rate</th>                 <td>   -0.0659</td> <td>    0.030</td> <td>   -2.203</td> <td> 0.028</td> <td>   -0.125</td> <td>   -0.007</td>\n",
              "</tr>\n",
              "<tr>\n",
              "  <th>industrial_perc</th>            <td>   -0.0568</td> <td>    0.057</td> <td>   -1.000</td> <td> 0.318</td> <td>   -0.168</td> <td>    0.055</td>\n",
              "</tr>\n",
              "<tr>\n",
              "  <th>close_to_charles_river</th>     <td>    3.1947</td> <td>    0.885</td> <td>    3.610</td> <td> 0.000</td> <td>    1.456</td> <td>    4.933</td>\n",
              "</tr>\n",
              "<tr>\n",
              "  <th>nitric_oxide</th>               <td>  -15.8670</td> <td>    3.695</td> <td>   -4.294</td> <td> 0.000</td> <td>  -23.126</td> <td>   -8.608</td>\n",
              "</tr>\n",
              "<tr>\n",
              "  <th>avg_num_rooms</th>              <td>    4.1799</td> <td>    0.416</td> <td>   10.036</td> <td> 0.000</td> <td>    3.362</td> <td>    4.998</td>\n",
              "</tr>\n",
              "<tr>\n",
              "  <th>age</th>                        <td>   -0.0064</td> <td>    0.013</td> <td>   -0.475</td> <td> 0.635</td> <td>   -0.033</td> <td>    0.020</td>\n",
              "</tr>\n",
              "<tr>\n",
              "  <th>dist_frm_employment_center</th> <td>   -1.2439</td> <td>    0.187</td> <td>   -6.637</td> <td> 0.000</td> <td>   -1.612</td> <td>   -0.876</td>\n",
              "</tr>\n",
              "<tr>\n",
              "  <th>pupil_teacher_ratio</th>        <td>   -0.9269</td> <td>    0.119</td> <td>   -7.816</td> <td> 0.000</td> <td>   -1.160</td> <td>   -0.694</td>\n",
              "</tr>\n",
              "<tr>\n",
              "  <th>perc_low_income_group</th>      <td>   -0.5322</td> <td>    0.052</td> <td>  -10.289</td> <td> 0.000</td> <td>   -0.634</td> <td>   -0.431</td>\n",
              "</tr>\n",
              "</table>\n",
              "<table class=\"simpletable\">\n",
              "<tr>\n",
              "  <th>Omnibus:</th>       <td>192.569</td> <th>  Durbin-Watson:     </th> <td>   1.030</td> \n",
              "</tr>\n",
              "<tr>\n",
              "  <th>Prob(Omnibus):</th> <td> 0.000</td>  <th>  Jarque-Bera (JB):  </th> <td> 936.024</td> \n",
              "</tr>\n",
              "<tr>\n",
              "  <th>Skew:</th>          <td> 1.623</td>  <th>  Prob(JB):          </th> <td>5.56e-204</td>\n",
              "</tr>\n",
              "<tr>\n",
              "  <th>Kurtosis:</th>      <td> 8.819</td>  <th>  Cond. No.          </th> <td>1.87e+03</td> \n",
              "</tr>\n",
              "</table><br/><br/>Notes:<br/>[1] Standard Errors assume that the covariance matrix of the errors is correctly specified.<br/>[2] The condition number is large, 1.87e+03. This might indicate that there are<br/>strong multicollinearity or other numerical problems."
            ]
          },
          "metadata": {},
          "execution_count": 33
        }
      ]
    },
    {
      "cell_type": "code",
      "source": [
        "residuals = model.resid"
      ],
      "metadata": {
        "id": "wEf-rY6SemFh"
      },
      "execution_count": 34,
      "outputs": []
    },
    {
      "cell_type": "code",
      "source": [
        "predictions = model.predict(bos)"
      ],
      "metadata": {
        "id": "I_rtcU-YemCg"
      },
      "execution_count": 35,
      "outputs": []
    },
    {
      "cell_type": "code",
      "source": [
        "plt.scatter(predictions, residuals, c='blue')\n",
        "plt.title('Plot of residuals')\n",
        "plt.xlabel('Y_predicted')\n",
        "plt.ylabel('Residuals')\n",
        "plt.show()"
      ],
      "metadata": {
        "colab": {
          "base_uri": "https://localhost:8080/",
          "height": 362
        },
        "id": "NYupxn-del_L",
        "outputId": "39f828fb-67ac-4f57-b743-adac064ec0ca"
      },
      "execution_count": 36,
      "outputs": [
        {
          "output_type": "display_data",
          "data": {
            "text/plain": [
              "<Figure size 360x360 with 1 Axes>"
            ],
            "image/png": "[encoded data removed]"
          },
          "metadata": {
            "needs_background": "light"
          }
        }
      ]
    },
    {
      "cell_type": "markdown",
      "source": [
        "*we can see cetain pattern here.\n",
        "*the variance is different in each zone. its called homoscedesticity.\n",
        "*multi collinearity is there, its not good.\n"
      ],
      "metadata": {
        "id": "UjSfe3H2v6YH"
      }
    },
    {
      "cell_type": "code",
      "source": [
        "sns.displot(residuals, kde = True)\n",
        "plt.show()"
      ],
      "metadata": {
        "colab": {
          "base_uri": "https://localhost:8080/",
          "height": 361
        },
        "id": "8w_C2lRiel8R",
        "outputId": "8684411d-dd4c-47ba-adf6-f4c111e5efa7"
      },
      "execution_count": 37,
      "outputs": [
        {
          "output_type": "display_data",
          "data": {
            "text/plain": [
              "<Figure size 360x360 with 1 Axes>"
            ],
            "image/png": "[encoded data removed]"
          },
          "metadata": {
            "needs_background": "light"
          }
        }
      ]
    },
    {
      "cell_type": "markdown",
      "source": [
        "* distribution of residual is very important."
      ],
      "metadata": {
        "id": "sjQdXv_0xTrt"
      }
    },
    {
      "cell_type": "code",
      "source": [
        "model.summary()"
      ],
      "metadata": {
        "colab": {
          "base_uri": "https://localhost:8080/",
          "height": 657
        },
        "id": "4i4BRJLwel5Z",
        "outputId": "79167906-a43f-43f3-e2be-685b26746f79"
      },
      "execution_count": 38,
      "outputs": [
        {
          "output_type": "execute_result",
          "data": {
            "text/plain": [
              "<class 'statsmodels.iolib.summary.Summary'>\n",
              "\"\"\"\n",
              "                            OLS Regression Results                            \n",
              "==============================================================================\n",
              "Dep. Variable:        avg_house_price   R-squared:                       0.719\n",
              "Model:                            OLS   Adj. R-squared:                  0.714\n",
              "Method:                 Least Squares   F-statistic:                     141.1\n",
              "Date:                Mon, 05 Sep 2022   Prob (F-statistic):          1.09e-130\n",
              "Time:                        18:07:52   Log-Likelihood:                -1518.9\n",
              "No. Observations:                 506   AIC:                             3058.\n",
              "Df Residuals:                     496   BIC:                             3100.\n",
              "Df Model:                           9                                         \n",
              "Covariance Type:            nonrobust                                         \n",
              "==============================================================================================\n",
              "                                 coef    std err          t      P>|t|      [0.025      0.975]\n",
              "----------------------------------------------------------------------------------------------\n",
              "Intercept                     34.7144      4.633      7.492      0.000      25.611      43.818\n",
              "crime_rate                    -0.0659      0.030     -2.203      0.028      -0.125      -0.007\n",
              "industrial_perc               -0.0568      0.057     -1.000      0.318      -0.168       0.055\n",
              "close_to_charles_river         3.1947      0.885      3.610      0.000       1.456       4.933\n",
              "nitric_oxide                 -15.8670      3.695     -4.294      0.000     -23.126      -8.608\n",
              "avg_num_rooms                  4.1799      0.416     10.036      0.000       3.362       4.998\n",
              "age                           -0.0064      0.013     -0.475      0.635      -0.033       0.020\n",
              "dist_frm_employment_center    -1.2439      0.187     -6.637      0.000      -1.612      -0.876\n",
              "pupil_teacher_ratio           -0.9269      0.119     -7.816      0.000      -1.160      -0.694\n",
              "perc_low_income_group         -0.5322      0.052    -10.289      0.000      -0.634      -0.431\n",
              "==============================================================================\n",
              "Omnibus:                      192.569   Durbin-Watson:                   1.030\n",
              "Prob(Omnibus):                  0.000   Jarque-Bera (JB):              936.024\n",
              "Skew:                           1.623   Prob(JB):                    5.56e-204\n",
              "Kurtosis:                       8.819   Cond. No.                     1.87e+03\n",
              "==============================================================================\n",
              "\n",
              "Notes:\n",
              "[1] Standard Errors assume that the covariance matrix of the errors is correctly specified.\n",
              "[2] The condition number is large, 1.87e+03. This might indicate that there are\n",
              "strong multicollinearity or other numerical problems.\n",
              "\"\"\""
            ],
            "text/html": [
              "<table class=\"simpletable\">\n",
              "<caption>OLS Regression Results</caption>\n",
              "<tr>\n",
              "  <th>Dep. Variable:</th>     <td>avg_house_price</td> <th>  R-squared:         </th> <td>   0.719</td> \n",
              "</tr>\n",
              "<tr>\n",
              "  <th>Model:</th>                   <td>OLS</td>       <th>  Adj. R-squared:    </th> <td>   0.714</td> \n",
              "</tr>\n",
              "<tr>\n",
              "  <th>Method:</th>             <td>Least Squares</td>  <th>  F-statistic:       </th> <td>   141.1</td> \n",
              "</tr>\n",
              "<tr>\n",
              "  <th>Date:</th>             <td>Mon, 05 Sep 2022</td> <th>  Prob (F-statistic):</th> <td>1.09e-130</td>\n",
              "</tr>\n",
              "<tr>\n",
              "  <th>Time:</th>                 <td>18:07:52</td>     <th>  Log-Likelihood:    </th> <td> -1518.9</td> \n",
              "</tr>\n",
              "<tr>\n",
              "  <th>No. Observations:</th>      <td>   506</td>      <th>  AIC:               </th> <td>   3058.</td> \n",
              "</tr>\n",
              "<tr>\n",
              "  <th>Df Residuals:</th>          <td>   496</td>      <th>  BIC:               </th> <td>   3100.</td> \n",
              "</tr>\n",
              "<tr>\n",
              "  <th>Df Model:</th>              <td>     9</td>      <th>                     </th>     <td> </td>    \n",
              "</tr>\n",
              "<tr>\n",
              "  <th>Covariance Type:</th>      <td>nonrobust</td>    <th>                     </th>     <td> </td>    \n",
              "</tr>\n",
              "</table>\n",
              "<table class=\"simpletable\">\n",
              "<tr>\n",
              "               <td></td>                 <th>coef</th>     <th>std err</th>      <th>t</th>      <th>P>|t|</th>  <th>[0.025</th>    <th>0.975]</th>  \n",
              "</tr>\n",
              "<tr>\n",
              "  <th>Intercept</th>                  <td>   34.7144</td> <td>    4.633</td> <td>    7.492</td> <td> 0.000</td> <td>   25.611</td> <td>   43.818</td>\n",
              "</tr>\n",
              "<tr>\n",
              "  <th>crime_rate</th>                 <td>   -0.0659</td> <td>    0.030</td> <td>   -2.203</td> <td> 0.028</td> <td>   -0.125</td> <td>   -0.007</td>\n",
              "</tr>\n",
              "<tr>\n",
              "  <th>industrial_perc</th>            <td>   -0.0568</td> <td>    0.057</td> <td>   -1.000</td> <td> 0.318</td> <td>   -0.168</td> <td>    0.055</td>\n",
              "</tr>\n",
              "<tr>\n",
              "  <th>close_to_charles_river</th>     <td>    3.1947</td> <td>    0.885</td> <td>    3.610</td> <td> 0.000</td> <td>    1.456</td> <td>    4.933</td>\n",
              "</tr>\n",
              "<tr>\n",
              "  <th>nitric_oxide</th>               <td>  -15.8670</td> <td>    3.695</td> <td>   -4.294</td> <td> 0.000</td> <td>  -23.126</td> <td>   -8.608</td>\n",
              "</tr>\n",
              "<tr>\n",
              "  <th>avg_num_rooms</th>              <td>    4.1799</td> <td>    0.416</td> <td>   10.036</td> <td> 0.000</td> <td>    3.362</td> <td>    4.998</td>\n",
              "</tr>\n",
              "<tr>\n",
              "  <th>age</th>                        <td>   -0.0064</td> <td>    0.013</td> <td>   -0.475</td> <td> 0.635</td> <td>   -0.033</td> <td>    0.020</td>\n",
              "</tr>\n",
              "<tr>\n",
              "  <th>dist_frm_employment_center</th> <td>   -1.2439</td> <td>    0.187</td> <td>   -6.637</td> <td> 0.000</td> <td>   -1.612</td> <td>   -0.876</td>\n",
              "</tr>\n",
              "<tr>\n",
              "  <th>pupil_teacher_ratio</th>        <td>   -0.9269</td> <td>    0.119</td> <td>   -7.816</td> <td> 0.000</td> <td>   -1.160</td> <td>   -0.694</td>\n",
              "</tr>\n",
              "<tr>\n",
              "  <th>perc_low_income_group</th>      <td>   -0.5322</td> <td>    0.052</td> <td>  -10.289</td> <td> 0.000</td> <td>   -0.634</td> <td>   -0.431</td>\n",
              "</tr>\n",
              "</table>\n",
              "<table class=\"simpletable\">\n",
              "<tr>\n",
              "  <th>Omnibus:</th>       <td>192.569</td> <th>  Durbin-Watson:     </th> <td>   1.030</td> \n",
              "</tr>\n",
              "<tr>\n",
              "  <th>Prob(Omnibus):</th> <td> 0.000</td>  <th>  Jarque-Bera (JB):  </th> <td> 936.024</td> \n",
              "</tr>\n",
              "<tr>\n",
              "  <th>Skew:</th>          <td> 1.623</td>  <th>  Prob(JB):          </th> <td>5.56e-204</td>\n",
              "</tr>\n",
              "<tr>\n",
              "  <th>Kurtosis:</th>      <td> 8.819</td>  <th>  Cond. No.          </th> <td>1.87e+03</td> \n",
              "</tr>\n",
              "</table><br/><br/>Notes:<br/>[1] Standard Errors assume that the covariance matrix of the errors is correctly specified.<br/>[2] The condition number is large, 1.87e+03. This might indicate that there are<br/>strong multicollinearity or other numerical problems."
            ]
          },
          "metadata": {},
          "execution_count": 38
        }
      ]
    },
    {
      "cell_type": "markdown",
      "source": [
        "*The p-value for the variable 'age' and the variable 'industrial_perc' is high. These variables are statistically not important. But we need to understand these variables from a business point of view and then only drop the variables if required.\n",
        "* here we have multicolinearity problem. so lets handle it first."
      ],
      "metadata": {
        "id": "2tVdzjTn0FDZ"
      }
    },
    {
      "cell_type": "code",
      "source": [
        "def vif_cal(input_data):\n",
        "    '''\n",
        "    input_data: Dataframe of features\n",
        "    '''\n",
        "    x_vars = input_data\n",
        "    xvar_names = input_data.columns\n",
        "    for i in range(len(xvar_names)):\n",
        "        y = x_vars[xvar_names[i]] \n",
        "        x = x_vars[xvar_names.drop(xvar_names[i])]\n",
        "        rsq = SM.ols(formula=\"y~x\", data=x_vars).fit().rsquared  \n",
        "        vif = round(1/(1-rsq), 2)\n",
        "        print (xvar_names[i], \" VIF = \" , vif)"
      ],
      "metadata": {
        "id": "A6PkiSOe2MgJ"
      },
      "execution_count": 40,
      "outputs": []
    },
    {
      "cell_type": "code",
      "source": [
        "vif_cal(input_data= bos.drop('avg_house_price', axis=1))"
      ],
      "metadata": {
        "colab": {
          "base_uri": "https://localhost:8080/"
        },
        "id": "cLxNNaym2_FE",
        "outputId": "969d9583-45b0-426e-b8ea-26e56c4d954f"
      },
      "execution_count": 41,
      "outputs": [
        {
          "output_type": "stream",
          "name": "stdout",
          "text": [
            "crime_rate  VIF =  1.38\n",
            "industrial_perc  VIF =  3.16\n",
            "close_to_charles_river  VIF =  1.05\n",
            "nitric_oxide  VIF =  3.83\n",
            "avg_num_rooms  VIF =  1.79\n",
            "age  VIF =  3.01\n",
            "dist_frm_employment_center  VIF =  3.25\n",
            "pupil_teacher_ratio  VIF =  1.38\n",
            "perc_low_income_group  VIF =  2.85\n"
          ]
        }
      ]
    },
    {
      "cell_type": "markdown",
      "source": [
        "Let us consider 2 as the VIF threshold value.\n",
        "we will drop the nitric_oxide and check the VIF value again."
      ],
      "metadata": {
        "id": "lU3jzjSo3XI8"
      }
    },
    {
      "cell_type": "code",
      "source": [
        "formula_MLR1 ='avg_house_price~crime_rate+industrial_perc+close_to_charles_river+avg_num_rooms+age+dist_frm_employment_center+pupil_teacher_ratio+perc_low_income_group'"
      ],
      "metadata": {
        "id": "XrA4Whf13iSX"
      },
      "execution_count": 42,
      "outputs": []
    },
    {
      "cell_type": "code",
      "source": [
        "model1 = SM.ols(formula = formula_MLR1, data=bos).fit()\n",
        "model1.summary()"
      ],
      "metadata": {
        "colab": {
          "base_uri": "https://localhost:8080/",
          "height": 636
        },
        "id": "k5jZTOOR4BB_",
        "outputId": "9803e521-f912-4e30-f1f1-4b58ad42a981"
      },
      "execution_count": 43,
      "outputs": [
        {
          "output_type": "execute_result",
          "data": {
            "text/plain": [
              "<class 'statsmodels.iolib.summary.Summary'>\n",
              "\"\"\"\n",
              "                            OLS Regression Results                            \n",
              "==============================================================================\n",
              "Dep. Variable:        avg_house_price   R-squared:                       0.709\n",
              "Model:                            OLS   Adj. R-squared:                  0.704\n",
              "Method:                 Least Squares   F-statistic:                     151.2\n",
              "Date:                Mon, 05 Sep 2022   Prob (F-statistic):          6.95e-128\n",
              "Time:                        18:18:49   Log-Likelihood:                -1528.1\n",
              "No. Observations:                 506   AIC:                             3074.\n",
              "Df Residuals:                     497   BIC:                             3112.\n",
              "Df Model:                           8                                         \n",
              "Covariance Type:            nonrobust                                         \n",
              "==============================================================================================\n",
              "                                 coef    std err          t      P>|t|      [0.025      0.975]\n",
              "----------------------------------------------------------------------------------------------\n",
              "Intercept                     24.8489      4.094      6.070      0.000      16.806      32.892\n",
              "crime_rate                    -0.0819      0.030     -2.712      0.007      -0.141      -0.023\n",
              "industrial_perc               -0.1565      0.053     -2.971      0.003      -0.260      -0.053\n",
              "close_to_charles_river         3.0960      0.900      3.440      0.001       1.328       4.864\n",
              "avg_num_rooms                  4.2326      0.424      9.993      0.000       3.400       5.065\n",
              "age                           -0.0207      0.013     -1.560      0.119      -0.047       0.005\n",
              "dist_frm_employment_center    -0.9877      0.181     -5.464      0.000      -1.343      -0.633\n",
              "pupil_teacher_ratio           -0.8061      0.117     -6.877      0.000      -1.036      -0.576\n",
              "perc_low_income_group         -0.5569      0.052    -10.648      0.000      -0.660      -0.454\n",
              "==============================================================================\n",
              "Omnibus:                      185.940   Durbin-Watson:                   1.008\n",
              "Prob(Omnibus):                  0.000   Jarque-Bera (JB):              902.398\n",
              "Skew:                           1.559   Prob(JB):                    1.11e-196\n",
              "Kurtosis:                       8.752   Cond. No.                     1.45e+03\n",
              "==============================================================================\n",
              "\n",
              "Notes:\n",
              "[1] Standard Errors assume that the covariance matrix of the errors is correctly specified.\n",
              "[2] The condition number is large, 1.45e+03. This might indicate that there are\n",
              "strong multicollinearity or other numerical problems.\n",
              "\"\"\""
            ],
            "text/html": [
              "<table class=\"simpletable\">\n",
              "<caption>OLS Regression Results</caption>\n",
              "<tr>\n",
              "  <th>Dep. Variable:</th>     <td>avg_house_price</td> <th>  R-squared:         </th> <td>   0.709</td> \n",
              "</tr>\n",
              "<tr>\n",
              "  <th>Model:</th>                   <td>OLS</td>       <th>  Adj. R-squared:    </th> <td>   0.704</td> \n",
              "</tr>\n",
              "<tr>\n",
              "  <th>Method:</th>             <td>Least Squares</td>  <th>  F-statistic:       </th> <td>   151.2</td> \n",
              "</tr>\n",
              "<tr>\n",
              "  <th>Date:</th>             <td>Mon, 05 Sep 2022</td> <th>  Prob (F-statistic):</th> <td>6.95e-128</td>\n",
              "</tr>\n",
              "<tr>\n",
              "  <th>Time:</th>                 <td>18:18:49</td>     <th>  Log-Likelihood:    </th> <td> -1528.1</td> \n",
              "</tr>\n",
              "<tr>\n",
              "  <th>No. Observations:</th>      <td>   506</td>      <th>  AIC:               </th> <td>   3074.</td> \n",
              "</tr>\n",
              "<tr>\n",
              "  <th>Df Residuals:</th>          <td>   497</td>      <th>  BIC:               </th> <td>   3112.</td> \n",
              "</tr>\n",
              "<tr>\n",
              "  <th>Df Model:</th>              <td>     8</td>      <th>                     </th>     <td> </td>    \n",
              "</tr>\n",
              "<tr>\n",
              "  <th>Covariance Type:</th>      <td>nonrobust</td>    <th>                     </th>     <td> </td>    \n",
              "</tr>\n",
              "</table>\n",
              "<table class=\"simpletable\">\n",
              "<tr>\n",
              "               <td></td>                 <th>coef</th>     <th>std err</th>      <th>t</th>      <th>P>|t|</th>  <th>[0.025</th>    <th>0.975]</th>  \n",
              "</tr>\n",
              "<tr>\n",
              "  <th>Intercept</th>                  <td>   24.8489</td> <td>    4.094</td> <td>    6.070</td> <td> 0.000</td> <td>   16.806</td> <td>   32.892</td>\n",
              "</tr>\n",
              "<tr>\n",
              "  <th>crime_rate</th>                 <td>   -0.0819</td> <td>    0.030</td> <td>   -2.712</td> <td> 0.007</td> <td>   -0.141</td> <td>   -0.023</td>\n",
              "</tr>\n",
              "<tr>\n",
              "  <th>industrial_perc</th>            <td>   -0.1565</td> <td>    0.053</td> <td>   -2.971</td> <td> 0.003</td> <td>   -0.260</td> <td>   -0.053</td>\n",
              "</tr>\n",
              "<tr>\n",
              "  <th>close_to_charles_river</th>     <td>    3.0960</td> <td>    0.900</td> <td>    3.440</td> <td> 0.001</td> <td>    1.328</td> <td>    4.864</td>\n",
              "</tr>\n",
              "<tr>\n",
              "  <th>avg_num_rooms</th>              <td>    4.2326</td> <td>    0.424</td> <td>    9.993</td> <td> 0.000</td> <td>    3.400</td> <td>    5.065</td>\n",
              "</tr>\n",
              "<tr>\n",
              "  <th>age</th>                        <td>   -0.0207</td> <td>    0.013</td> <td>   -1.560</td> <td> 0.119</td> <td>   -0.047</td> <td>    0.005</td>\n",
              "</tr>\n",
              "<tr>\n",
              "  <th>dist_frm_employment_center</th> <td>   -0.9877</td> <td>    0.181</td> <td>   -5.464</td> <td> 0.000</td> <td>   -1.343</td> <td>   -0.633</td>\n",
              "</tr>\n",
              "<tr>\n",
              "  <th>pupil_teacher_ratio</th>        <td>   -0.8061</td> <td>    0.117</td> <td>   -6.877</td> <td> 0.000</td> <td>   -1.036</td> <td>   -0.576</td>\n",
              "</tr>\n",
              "<tr>\n",
              "  <th>perc_low_income_group</th>      <td>   -0.5569</td> <td>    0.052</td> <td>  -10.648</td> <td> 0.000</td> <td>   -0.660</td> <td>   -0.454</td>\n",
              "</tr>\n",
              "</table>\n",
              "<table class=\"simpletable\">\n",
              "<tr>\n",
              "  <th>Omnibus:</th>       <td>185.940</td> <th>  Durbin-Watson:     </th> <td>   1.008</td> \n",
              "</tr>\n",
              "<tr>\n",
              "  <th>Prob(Omnibus):</th> <td> 0.000</td>  <th>  Jarque-Bera (JB):  </th> <td> 902.398</td> \n",
              "</tr>\n",
              "<tr>\n",
              "  <th>Skew:</th>          <td> 1.559</td>  <th>  Prob(JB):          </th> <td>1.11e-196</td>\n",
              "</tr>\n",
              "<tr>\n",
              "  <th>Kurtosis:</th>      <td> 8.752</td>  <th>  Cond. No.          </th> <td>1.45e+03</td> \n",
              "</tr>\n",
              "</table><br/><br/>Notes:<br/>[1] Standard Errors assume that the covariance matrix of the errors is correctly specified.<br/>[2] The condition number is large, 1.45e+03. This might indicate that there are<br/>strong multicollinearity or other numerical problems."
            ]
          },
          "metadata": {},
          "execution_count": 43
        }
      ]
    },
    {
      "cell_type": "code",
      "source": [
        "vif_cal(input_data= bos.drop(['avg_house_price', 'nitric_oxide'], axis=1))"
      ],
      "metadata": {
        "colab": {
          "base_uri": "https://localhost:8080/"
        },
        "id": "Gvl7fM5F4Um8",
        "outputId": "6af007c8-e291-4393-d253-2b67074786ee"
      },
      "execution_count": 45,
      "outputs": [
        {
          "output_type": "stream",
          "name": "stdout",
          "text": [
            "crime_rate  VIF =  1.36\n",
            "industrial_perc  VIF =  2.63\n",
            "close_to_charles_river  VIF =  1.05\n",
            "avg_num_rooms  VIF =  1.79\n",
            "age  VIF =  2.82\n",
            "dist_frm_employment_center  VIF =  2.92\n",
            "pupil_teacher_ratio  VIF =  1.3\n",
            "perc_low_income_group  VIF =  2.81\n"
          ]
        }
      ]
    },
    {
      "cell_type": "code",
      "source": [
        "formula_MLR2 ='avg_house_price~crime_rate+industrial_perc+close_to_charles_river+avg_num_rooms+dist_frm_employment_center+pupil_teacher_ratio+perc_low_income_group'"
      ],
      "metadata": {
        "id": "4IifTPmQ4vuc"
      },
      "execution_count": 47,
      "outputs": []
    },
    {
      "cell_type": "code",
      "source": [
        "model2 = SM.ols(formula = formula_MLR2, data=bos).fit()\n",
        "model2.summary()"
      ],
      "metadata": {
        "colab": {
          "base_uri": "https://localhost:8080/",
          "height": 580
        },
        "id": "0c11smfn42Yv",
        "outputId": "4962db65-d778-448a-9e67-a3d85b252112"
      },
      "execution_count": 48,
      "outputs": [
        {
          "output_type": "execute_result",
          "data": {
            "text/plain": [
              "<class 'statsmodels.iolib.summary.Summary'>\n",
              "\"\"\"\n",
              "                            OLS Regression Results                            \n",
              "==============================================================================\n",
              "Dep. Variable:        avg_house_price   R-squared:                       0.707\n",
              "Model:                            OLS   Adj. R-squared:                  0.703\n",
              "Method:                 Least Squares   F-statistic:                     171.9\n",
              "Date:                Mon, 05 Sep 2022   Prob (F-statistic):          1.71e-128\n",
              "Time:                        18:22:33   Log-Likelihood:                -1529.4\n",
              "No. Observations:                 506   AIC:                             3075.\n",
              "Df Residuals:                     498   BIC:                             3109.\n",
              "Df Model:                           7                                         \n",
              "Covariance Type:            nonrobust                                         \n",
              "==============================================================================================\n",
              "                                 coef    std err          t      P>|t|      [0.025      0.975]\n",
              "----------------------------------------------------------------------------------------------\n",
              "Intercept                     24.1691      4.076      5.929      0.000      16.160      32.178\n",
              "crime_rate                    -0.0798      0.030     -2.641      0.009      -0.139      -0.020\n",
              "industrial_perc               -0.1658      0.052     -3.165      0.002      -0.269      -0.063\n",
              "close_to_charles_river         3.0111      0.900      3.347      0.001       1.244       4.779\n",
              "avg_num_rooms                  4.1225      0.418      9.857      0.000       3.301       4.944\n",
              "dist_frm_employment_center    -0.8444      0.156     -5.416      0.000      -1.151      -0.538\n",
              "pupil_teacher_ratio           -0.8120      0.117     -6.922      0.000      -1.042      -0.582\n",
              "perc_low_income_group         -0.5870      0.049    -12.057      0.000      -0.683      -0.491\n",
              "==============================================================================\n",
              "Omnibus:                      178.255   Durbin-Watson:                   1.018\n",
              "Prob(Omnibus):                  0.000   Jarque-Bera (JB):              809.516\n",
              "Skew:                           1.510   Prob(JB):                    1.64e-176\n",
              "Kurtosis:                       8.410   Cond. No.                         501.\n",
              "==============================================================================\n",
              "\n",
              "Notes:\n",
              "[1] Standard Errors assume that the covariance matrix of the errors is correctly specified.\n",
              "\"\"\""
            ],
            "text/html": [
              "<table class=\"simpletable\">\n",
              "<caption>OLS Regression Results</caption>\n",
              "<tr>\n",
              "  <th>Dep. Variable:</th>     <td>avg_house_price</td> <th>  R-squared:         </th> <td>   0.707</td> \n",
              "</tr>\n",
              "<tr>\n",
              "  <th>Model:</th>                   <td>OLS</td>       <th>  Adj. R-squared:    </th> <td>   0.703</td> \n",
              "</tr>\n",
              "<tr>\n",
              "  <th>Method:</th>             <td>Least Squares</td>  <th>  F-statistic:       </th> <td>   171.9</td> \n",
              "</tr>\n",
              "<tr>\n",
              "  <th>Date:</th>             <td>Mon, 05 Sep 2022</td> <th>  Prob (F-statistic):</th> <td>1.71e-128</td>\n",
              "</tr>\n",
              "<tr>\n",
              "  <th>Time:</th>                 <td>18:22:33</td>     <th>  Log-Likelihood:    </th> <td> -1529.4</td> \n",
              "</tr>\n",
              "<tr>\n",
              "  <th>No. Observations:</th>      <td>   506</td>      <th>  AIC:               </th> <td>   3075.</td> \n",
              "</tr>\n",
              "<tr>\n",
              "  <th>Df Residuals:</th>          <td>   498</td>      <th>  BIC:               </th> <td>   3109.</td> \n",
              "</tr>\n",
              "<tr>\n",
              "  <th>Df Model:</th>              <td>     7</td>      <th>                     </th>     <td> </td>    \n",
              "</tr>\n",
              "<tr>\n",
              "  <th>Covariance Type:</th>      <td>nonrobust</td>    <th>                     </th>     <td> </td>    \n",
              "</tr>\n",
              "</table>\n",
              "<table class=\"simpletable\">\n",
              "<tr>\n",
              "               <td></td>                 <th>coef</th>     <th>std err</th>      <th>t</th>      <th>P>|t|</th>  <th>[0.025</th>    <th>0.975]</th>  \n",
              "</tr>\n",
              "<tr>\n",
              "  <th>Intercept</th>                  <td>   24.1691</td> <td>    4.076</td> <td>    5.929</td> <td> 0.000</td> <td>   16.160</td> <td>   32.178</td>\n",
              "</tr>\n",
              "<tr>\n",
              "  <th>crime_rate</th>                 <td>   -0.0798</td> <td>    0.030</td> <td>   -2.641</td> <td> 0.009</td> <td>   -0.139</td> <td>   -0.020</td>\n",
              "</tr>\n",
              "<tr>\n",
              "  <th>industrial_perc</th>            <td>   -0.1658</td> <td>    0.052</td> <td>   -3.165</td> <td> 0.002</td> <td>   -0.269</td> <td>   -0.063</td>\n",
              "</tr>\n",
              "<tr>\n",
              "  <th>close_to_charles_river</th>     <td>    3.0111</td> <td>    0.900</td> <td>    3.347</td> <td> 0.001</td> <td>    1.244</td> <td>    4.779</td>\n",
              "</tr>\n",
              "<tr>\n",
              "  <th>avg_num_rooms</th>              <td>    4.1225</td> <td>    0.418</td> <td>    9.857</td> <td> 0.000</td> <td>    3.301</td> <td>    4.944</td>\n",
              "</tr>\n",
              "<tr>\n",
              "  <th>dist_frm_employment_center</th> <td>   -0.8444</td> <td>    0.156</td> <td>   -5.416</td> <td> 0.000</td> <td>   -1.151</td> <td>   -0.538</td>\n",
              "</tr>\n",
              "<tr>\n",
              "  <th>pupil_teacher_ratio</th>        <td>   -0.8120</td> <td>    0.117</td> <td>   -6.922</td> <td> 0.000</td> <td>   -1.042</td> <td>   -0.582</td>\n",
              "</tr>\n",
              "<tr>\n",
              "  <th>perc_low_income_group</th>      <td>   -0.5870</td> <td>    0.049</td> <td>  -12.057</td> <td> 0.000</td> <td>   -0.683</td> <td>   -0.491</td>\n",
              "</tr>\n",
              "</table>\n",
              "<table class=\"simpletable\">\n",
              "<tr>\n",
              "  <th>Omnibus:</th>       <td>178.255</td> <th>  Durbin-Watson:     </th> <td>   1.018</td> \n",
              "</tr>\n",
              "<tr>\n",
              "  <th>Prob(Omnibus):</th> <td> 0.000</td>  <th>  Jarque-Bera (JB):  </th> <td> 809.516</td> \n",
              "</tr>\n",
              "<tr>\n",
              "  <th>Skew:</th>          <td> 1.510</td>  <th>  Prob(JB):          </th> <td>1.64e-176</td>\n",
              "</tr>\n",
              "<tr>\n",
              "  <th>Kurtosis:</th>      <td> 8.410</td>  <th>  Cond. No.          </th> <td>    501.</td> \n",
              "</tr>\n",
              "</table><br/><br/>Notes:<br/>[1] Standard Errors assume that the covariance matrix of the errors is correctly specified."
            ]
          },
          "metadata": {},
          "execution_count": 48
        }
      ]
    },
    {
      "cell_type": "code",
      "source": [
        "vif_cal(input_data= bos.drop(['avg_house_price', 'nitric_oxide', 'age'], axis=1))"
      ],
      "metadata": {
        "colab": {
          "base_uri": "https://localhost:8080/"
        },
        "id": "PH2LG83E5Ay-",
        "outputId": "891a5a40-f0b7-453e-ae7a-8adbb8f00e44"
      },
      "execution_count": 49,
      "outputs": [
        {
          "output_type": "stream",
          "name": "stdout",
          "text": [
            "crime_rate  VIF =  1.36\n",
            "industrial_perc  VIF =  2.6\n",
            "close_to_charles_river  VIF =  1.05\n",
            "avg_num_rooms  VIF =  1.74\n",
            "dist_frm_employment_center  VIF =  2.17\n",
            "pupil_teacher_ratio  VIF =  1.3\n",
            "perc_low_income_group  VIF =  2.43\n"
          ]
        }
      ]
    },
    {
      "cell_type": "code",
      "source": [
        "formula_MLR3 ='avg_house_price~crime_rate+close_to_charles_river+avg_num_rooms+dist_frm_employment_center+pupil_teacher_ratio+perc_low_income_group'"
      ],
      "metadata": {
        "id": "nPuHX4CL5zua"
      },
      "execution_count": 50,
      "outputs": []
    },
    {
      "cell_type": "code",
      "source": [
        "model3 = SM.ols(formula = formula_MLR3, data=bos).fit()\n",
        "model3.summary()"
      ],
      "metadata": {
        "colab": {
          "base_uri": "https://localhost:8080/",
          "height": 558
        },
        "id": "7JY0ABt-5zrE",
        "outputId": "08f0b2aa-e86a-4828-c359-5f140563c748"
      },
      "execution_count": 51,
      "outputs": [
        {
          "output_type": "execute_result",
          "data": {
            "text/plain": [
              "<class 'statsmodels.iolib.summary.Summary'>\n",
              "\"\"\"\n",
              "                            OLS Regression Results                            \n",
              "==============================================================================\n",
              "Dep. Variable:        avg_house_price   R-squared:                       0.701\n",
              "Model:                            OLS   Adj. R-squared:                  0.698\n",
              "Method:                 Least Squares   F-statistic:                     195.4\n",
              "Date:                Mon, 05 Sep 2022   Prob (F-statistic):          1.63e-127\n",
              "Time:                        18:27:08   Log-Likelihood:                -1534.4\n",
              "No. Observations:                 506   AIC:                             3083.\n",
              "Df Residuals:                     499   BIC:                             3112.\n",
              "Df Model:                           6                                         \n",
              "Covariance Type:            nonrobust                                         \n",
              "==============================================================================================\n",
              "                                 coef    std err          t      P>|t|      [0.025      0.975]\n",
              "----------------------------------------------------------------------------------------------\n",
              "Intercept                     22.0240      4.056      5.430      0.000      14.056      29.992\n",
              "crime_rate                    -0.0868      0.030     -2.853      0.005      -0.147      -0.027\n",
              "close_to_charles_river         2.7839      0.905      3.077      0.002       1.006       4.561\n",
              "avg_num_rooms                  4.2846      0.419     10.230      0.000       3.462       5.107\n",
              "dist_frm_employment_center    -0.5595      0.128     -4.357      0.000      -0.812      -0.307\n",
              "pupil_teacher_ratio           -0.8848      0.116     -7.623      0.000      -1.113      -0.657\n",
              "perc_low_income_group         -0.6200      0.048    -12.922      0.000      -0.714      -0.526\n",
              "==============================================================================\n",
              "Omnibus:                      168.465   Durbin-Watson:                   1.020\n",
              "Prob(Omnibus):                  0.000   Jarque-Bera (JB):              721.889\n",
              "Skew:                           1.439   Prob(JB):                    1.75e-157\n",
              "Kurtosis:                       8.095   Cond. No.                         443.\n",
              "==============================================================================\n",
              "\n",
              "Notes:\n",
              "[1] Standard Errors assume that the covariance matrix of the errors is correctly specified.\n",
              "\"\"\""
            ],
            "text/html": [
              "<table class=\"simpletable\">\n",
              "<caption>OLS Regression Results</caption>\n",
              "<tr>\n",
              "  <th>Dep. Variable:</th>     <td>avg_house_price</td> <th>  R-squared:         </th> <td>   0.701</td> \n",
              "</tr>\n",
              "<tr>\n",
              "  <th>Model:</th>                   <td>OLS</td>       <th>  Adj. R-squared:    </th> <td>   0.698</td> \n",
              "</tr>\n",
              "<tr>\n",
              "  <th>Method:</th>             <td>Least Squares</td>  <th>  F-statistic:       </th> <td>   195.4</td> \n",
              "</tr>\n",
              "<tr>\n",
              "  <th>Date:</th>             <td>Mon, 05 Sep 2022</td> <th>  Prob (F-statistic):</th> <td>1.63e-127</td>\n",
              "</tr>\n",
              "<tr>\n",
              "  <th>Time:</th>                 <td>18:27:08</td>     <th>  Log-Likelihood:    </th> <td> -1534.4</td> \n",
              "</tr>\n",
              "<tr>\n",
              "  <th>No. Observations:</th>      <td>   506</td>      <th>  AIC:               </th> <td>   3083.</td> \n",
              "</tr>\n",
              "<tr>\n",
              "  <th>Df Residuals:</th>          <td>   499</td>      <th>  BIC:               </th> <td>   3112.</td> \n",
              "</tr>\n",
              "<tr>\n",
              "  <th>Df Model:</th>              <td>     6</td>      <th>                     </th>     <td> </td>    \n",
              "</tr>\n",
              "<tr>\n",
              "  <th>Covariance Type:</th>      <td>nonrobust</td>    <th>                     </th>     <td> </td>    \n",
              "</tr>\n",
              "</table>\n",
              "<table class=\"simpletable\">\n",
              "<tr>\n",
              "               <td></td>                 <th>coef</th>     <th>std err</th>      <th>t</th>      <th>P>|t|</th>  <th>[0.025</th>    <th>0.975]</th>  \n",
              "</tr>\n",
              "<tr>\n",
              "  <th>Intercept</th>                  <td>   22.0240</td> <td>    4.056</td> <td>    5.430</td> <td> 0.000</td> <td>   14.056</td> <td>   29.992</td>\n",
              "</tr>\n",
              "<tr>\n",
              "  <th>crime_rate</th>                 <td>   -0.0868</td> <td>    0.030</td> <td>   -2.853</td> <td> 0.005</td> <td>   -0.147</td> <td>   -0.027</td>\n",
              "</tr>\n",
              "<tr>\n",
              "  <th>close_to_charles_river</th>     <td>    2.7839</td> <td>    0.905</td> <td>    3.077</td> <td> 0.002</td> <td>    1.006</td> <td>    4.561</td>\n",
              "</tr>\n",
              "<tr>\n",
              "  <th>avg_num_rooms</th>              <td>    4.2846</td> <td>    0.419</td> <td>   10.230</td> <td> 0.000</td> <td>    3.462</td> <td>    5.107</td>\n",
              "</tr>\n",
              "<tr>\n",
              "  <th>dist_frm_employment_center</th> <td>   -0.5595</td> <td>    0.128</td> <td>   -4.357</td> <td> 0.000</td> <td>   -0.812</td> <td>   -0.307</td>\n",
              "</tr>\n",
              "<tr>\n",
              "  <th>pupil_teacher_ratio</th>        <td>   -0.8848</td> <td>    0.116</td> <td>   -7.623</td> <td> 0.000</td> <td>   -1.113</td> <td>   -0.657</td>\n",
              "</tr>\n",
              "<tr>\n",
              "  <th>perc_low_income_group</th>      <td>   -0.6200</td> <td>    0.048</td> <td>  -12.922</td> <td> 0.000</td> <td>   -0.714</td> <td>   -0.526</td>\n",
              "</tr>\n",
              "</table>\n",
              "<table class=\"simpletable\">\n",
              "<tr>\n",
              "  <th>Omnibus:</th>       <td>168.465</td> <th>  Durbin-Watson:     </th> <td>   1.020</td> \n",
              "</tr>\n",
              "<tr>\n",
              "  <th>Prob(Omnibus):</th> <td> 0.000</td>  <th>  Jarque-Bera (JB):  </th> <td> 721.889</td> \n",
              "</tr>\n",
              "<tr>\n",
              "  <th>Skew:</th>          <td> 1.439</td>  <th>  Prob(JB):          </th> <td>1.75e-157</td>\n",
              "</tr>\n",
              "<tr>\n",
              "  <th>Kurtosis:</th>      <td> 8.095</td>  <th>  Cond. No.          </th> <td>    443.</td> \n",
              "</tr>\n",
              "</table><br/><br/>Notes:<br/>[1] Standard Errors assume that the covariance matrix of the errors is correctly specified."
            ]
          },
          "metadata": {},
          "execution_count": 51
        }
      ]
    },
    {
      "cell_type": "code",
      "source": [
        "vif_cal(input_data= bos.drop(['avg_house_price', 'nitric_oxide', 'age', 'industrial_perc'], axis=1))"
      ],
      "metadata": {
        "colab": {
          "base_uri": "https://localhost:8080/"
        },
        "id": "Cnq_tWdz5zpM",
        "outputId": "4c2c100c-6812-4e09-95b0-251c1c7e16e2"
      },
      "execution_count": 52,
      "outputs": [
        {
          "output_type": "stream",
          "name": "stdout",
          "text": [
            "crime_rate  VIF =  1.35\n",
            "close_to_charles_river  VIF =  1.04\n",
            "avg_num_rooms  VIF =  1.71\n",
            "dist_frm_employment_center  VIF =  1.45\n",
            "pupil_teacher_ratio  VIF =  1.25\n",
            "perc_low_income_group  VIF =  2.32\n"
          ]
        }
      ]
    },
    {
      "cell_type": "code",
      "source": [
        "formula_MLR4 ='avg_house_price~crime_rate+close_to_charles_river+avg_num_rooms+dist_frm_employment_center+pupil_teacher_ratio'"
      ],
      "metadata": {
        "id": "dATYA1_85zmP"
      },
      "execution_count": 53,
      "outputs": []
    },
    {
      "cell_type": "code",
      "source": [
        "model4 = SM.ols(formula = formula_MLR4, data=bos).fit()\n",
        "model4.summary()"
      ],
      "metadata": {
        "colab": {
          "base_uri": "https://localhost:8080/",
          "height": 537
        },
        "id": "TxnZo2Sg5zhQ",
        "outputId": "e50966cc-eea4-43e0-9a09-b191cd3b82db"
      },
      "execution_count": 54,
      "outputs": [
        {
          "output_type": "execute_result",
          "data": {
            "text/plain": [
              "<class 'statsmodels.iolib.summary.Summary'>\n",
              "\"\"\"\n",
              "                            OLS Regression Results                            \n",
              "==============================================================================\n",
              "Dep. Variable:        avg_house_price   R-squared:                       0.602\n",
              "Model:                            OLS   Adj. R-squared:                  0.598\n",
              "Method:                 Least Squares   F-statistic:                     151.0\n",
              "Date:                Mon, 05 Sep 2022   Prob (F-statistic):           1.76e-97\n",
              "Time:                        18:32:40   Log-Likelihood:                -1607.4\n",
              "No. Observations:                 506   AIC:                             3227.\n",
              "Df Residuals:                     500   BIC:                             3252.\n",
              "Df Model:                           5                                         \n",
              "Covariance Type:            nonrobust                                         \n",
              "==============================================================================================\n",
              "                                 coef    std err          t      P>|t|      [0.025      0.975]\n",
              "----------------------------------------------------------------------------------------------\n",
              "Intercept                     -4.2038      4.052     -1.037      0.300     -12.166       3.758\n",
              "crime_rate                    -0.1972      0.034     -5.853      0.000      -0.263      -0.131\n",
              "close_to_charles_river         3.1328      1.044      3.002      0.003       1.082       5.183\n",
              "avg_num_rooms                  7.2978      0.401     18.177      0.000       6.509       8.087\n",
              "dist_frm_employment_center     0.0783      0.137      0.572      0.567      -0.191       0.347\n",
              "pupil_teacher_ratio           -1.0256      0.133     -7.691      0.000      -1.288      -0.764\n",
              "==============================================================================\n",
              "Omnibus:                      220.630   Durbin-Watson:                   0.884\n",
              "Prob(Omnibus):                  0.000   Jarque-Bera (JB):             1816.415\n",
              "Skew:                           1.695   Prob(JB):                         0.00\n",
              "Kurtosis:                      11.641   Cond. No.                         320.\n",
              "==============================================================================\n",
              "\n",
              "Notes:\n",
              "[1] Standard Errors assume that the covariance matrix of the errors is correctly specified.\n",
              "\"\"\""
            ],
            "text/html": [
              "<table class=\"simpletable\">\n",
              "<caption>OLS Regression Results</caption>\n",
              "<tr>\n",
              "  <th>Dep. Variable:</th>     <td>avg_house_price</td> <th>  R-squared:         </th> <td>   0.602</td>\n",
              "</tr>\n",
              "<tr>\n",
              "  <th>Model:</th>                   <td>OLS</td>       <th>  Adj. R-squared:    </th> <td>   0.598</td>\n",
              "</tr>\n",
              "<tr>\n",
              "  <th>Method:</th>             <td>Least Squares</td>  <th>  F-statistic:       </th> <td>   151.0</td>\n",
              "</tr>\n",
              "<tr>\n",
              "  <th>Date:</th>             <td>Mon, 05 Sep 2022</td> <th>  Prob (F-statistic):</th> <td>1.76e-97</td>\n",
              "</tr>\n",
              "<tr>\n",
              "  <th>Time:</th>                 <td>18:32:40</td>     <th>  Log-Likelihood:    </th> <td> -1607.4</td>\n",
              "</tr>\n",
              "<tr>\n",
              "  <th>No. Observations:</th>      <td>   506</td>      <th>  AIC:               </th> <td>   3227.</td>\n",
              "</tr>\n",
              "<tr>\n",
              "  <th>Df Residuals:</th>          <td>   500</td>      <th>  BIC:               </th> <td>   3252.</td>\n",
              "</tr>\n",
              "<tr>\n",
              "  <th>Df Model:</th>              <td>     5</td>      <th>                     </th>     <td> </td>   \n",
              "</tr>\n",
              "<tr>\n",
              "  <th>Covariance Type:</th>      <td>nonrobust</td>    <th>                     </th>     <td> </td>   \n",
              "</tr>\n",
              "</table>\n",
              "<table class=\"simpletable\">\n",
              "<tr>\n",
              "               <td></td>                 <th>coef</th>     <th>std err</th>      <th>t</th>      <th>P>|t|</th>  <th>[0.025</th>    <th>0.975]</th>  \n",
              "</tr>\n",
              "<tr>\n",
              "  <th>Intercept</th>                  <td>   -4.2038</td> <td>    4.052</td> <td>   -1.037</td> <td> 0.300</td> <td>  -12.166</td> <td>    3.758</td>\n",
              "</tr>\n",
              "<tr>\n",
              "  <th>crime_rate</th>                 <td>   -0.1972</td> <td>    0.034</td> <td>   -5.853</td> <td> 0.000</td> <td>   -0.263</td> <td>   -0.131</td>\n",
              "</tr>\n",
              "<tr>\n",
              "  <th>close_to_charles_river</th>     <td>    3.1328</td> <td>    1.044</td> <td>    3.002</td> <td> 0.003</td> <td>    1.082</td> <td>    5.183</td>\n",
              "</tr>\n",
              "<tr>\n",
              "  <th>avg_num_rooms</th>              <td>    7.2978</td> <td>    0.401</td> <td>   18.177</td> <td> 0.000</td> <td>    6.509</td> <td>    8.087</td>\n",
              "</tr>\n",
              "<tr>\n",
              "  <th>dist_frm_employment_center</th> <td>    0.0783</td> <td>    0.137</td> <td>    0.572</td> <td> 0.567</td> <td>   -0.191</td> <td>    0.347</td>\n",
              "</tr>\n",
              "<tr>\n",
              "  <th>pupil_teacher_ratio</th>        <td>   -1.0256</td> <td>    0.133</td> <td>   -7.691</td> <td> 0.000</td> <td>   -1.288</td> <td>   -0.764</td>\n",
              "</tr>\n",
              "</table>\n",
              "<table class=\"simpletable\">\n",
              "<tr>\n",
              "  <th>Omnibus:</th>       <td>220.630</td> <th>  Durbin-Watson:     </th> <td>   0.884</td>\n",
              "</tr>\n",
              "<tr>\n",
              "  <th>Prob(Omnibus):</th> <td> 0.000</td>  <th>  Jarque-Bera (JB):  </th> <td>1816.415</td>\n",
              "</tr>\n",
              "<tr>\n",
              "  <th>Skew:</th>          <td> 1.695</td>  <th>  Prob(JB):          </th> <td>    0.00</td>\n",
              "</tr>\n",
              "<tr>\n",
              "  <th>Kurtosis:</th>      <td>11.641</td>  <th>  Cond. No.          </th> <td>    320.</td>\n",
              "</tr>\n",
              "</table><br/><br/>Notes:<br/>[1] Standard Errors assume that the covariance matrix of the errors is correctly specified."
            ]
          },
          "metadata": {},
          "execution_count": 54
        }
      ]
    },
    {
      "cell_type": "code",
      "source": [
        "vif_cal(input_data= bos.drop(['avg_house_price', 'nitric_oxide', 'age', 'industrial_perc', 'perc_low_income_group'], axis=1))"
      ],
      "metadata": {
        "colab": {
          "base_uri": "https://localhost:8080/"
        },
        "id": "_zbZTwkz65w4",
        "outputId": "d5b1c4dd-062e-4bbf-f142-6ddf11d1c63e"
      },
      "execution_count": 55,
      "outputs": [
        {
          "output_type": "stream",
          "name": "stdout",
          "text": [
            "crime_rate  VIF =  1.25\n",
            "close_to_charles_river  VIF =  1.04\n",
            "avg_num_rooms  VIF =  1.18\n",
            "dist_frm_employment_center  VIF =  1.23\n",
            "pupil_teacher_ratio  VIF =  1.24\n"
          ]
        }
      ]
    },
    {
      "cell_type": "markdown",
      "source": [
        "* though the VIF values are under the threshold and the p_values are good, but adjusted r square has fallen a lot. so we will not consider dropping perc-low_income_group. and hence we can stop with final variables 'crime_rate, close_to_charles_river, avg_num_rooms, dist_frm_employment_center, pupil_teacher_ratio, perc_low_income_group'. "
      ],
      "metadata": {
        "id": "3P4MM5VI7dzf"
      }
    },
    {
      "cell_type": "code",
      "source": [
        "model_pred = model.fittedvalues\n",
        "model3_pred = model3.fittedvalues"
      ],
      "metadata": {
        "id": "-b6uVDjk7cF7"
      },
      "execution_count": 57,
      "outputs": []
    },
    {
      "cell_type": "code",
      "source": [
        "f, (ax1, ax2) =  plt.subplots(nrows=1, ncols=2, figsize=(15,5), sharey=True)\n",
        "\n",
        "ax1.scatter(bos['avg_house_price'], model_pred)\n",
        "ax1.set_title('Model predictions')\n",
        "\n",
        "ax2.scatter(bos['avg_house_price'],model3_pred)\n",
        "ax2.set_title('Model 3predictions')\n",
        "plt.show()"
      ],
      "metadata": {
        "colab": {
          "base_uri": "https://localhost:8080/",
          "height": 344
        },
        "id": "uHuKdyNJ65uD",
        "outputId": "0fec325f-4ea1-483b-8d4f-98dd7f458733"
      },
      "execution_count": 58,
      "outputs": [
        {
          "output_type": "display_data",
          "data": {
            "text/plain": [
              "<Figure size 1080x360 with 2 Axes>"
            ],
            "image/png": "[encoded data removed]"
          },
          "metadata": {
            "needs_background": "light"
          }
        }
      ]
    },
    {
      "cell_type": "code",
      "source": [
        "f,a =  plt.subplots(1,2, sharex=True, sharey=False, squeeze=False, figsize=(15,5))\n",
        "\n",
        "#Plotting the distplot and the boxplot of the residuals for model 8\n",
        "\n",
        "plot_0 = sns.histplot(model.resid, ax=a[0][0], kde=True)\n",
        "a[0][0].set_title('Model : Distplot of the residuals')\n",
        "\n",
        "plot_1 = sns.histplot(model3.resid, ax=a[0][1], kde=True)\n",
        "a[0][1].set_title('Model 3: Distplot of the residuals')\n",
        "plt.show()\n"
      ],
      "metadata": {
        "colab": {
          "base_uri": "https://localhost:8080/",
          "height": 344
        },
        "id": "DDV3WTwv65rY",
        "outputId": "8d6b6342-a93c-4e8b-a3f0-d3858e239a79"
      },
      "execution_count": 59,
      "outputs": [
        {
          "output_type": "display_data",
          "data": {
            "text/plain": [
              "<Figure size 1080x360 with 2 Axes>"
            ],
            "image/png": "[encoded data removed]"
          },
          "metadata": {
            "needs_background": "light"
          }
        }
      ]
    },
    {
      "cell_type": "code",
      "source": [
        "f,a =  plt.subplots(1,2, sharex=True, sharey=False, squeeze=False, figsize=(15,5))\n",
        "\n",
        "#Plotting the distplot and the boxplot of the residuals for model 8\n",
        "\n",
        "plot_0 = sns.boxplot(x= model.resid, ax=a[0][0])\n",
        "a[0][0].set_title('Model : Boxplot of the residuals')\n",
        "\n",
        "plot_1 = sns.boxplot(x = model3.resid, ax=a[0][1])\n",
        "a[0][1].set_title('Model 3: Boxplot of the residuals')\n",
        "plt.show()\n"
      ],
      "metadata": {
        "colab": {
          "base_uri": "https://localhost:8080/",
          "height": 344
        },
        "id": "FsXH9DGF65nX",
        "outputId": "5beb8fd4-7d80-4ea3-88f9-a0fd40517c27"
      },
      "execution_count": 60,
      "outputs": [
        {
          "output_type": "display_data",
          "data": {
            "text/plain": [
              "<Figure size 1080x360 with 2 Axes>"
            ],
            "image/png": "[encoded data removed]"
          },
          "metadata": {
            "needs_background": "light"
          }
        }
      ]
    },
    {
      "cell_type": "code",
      "source": [
        "from sklearn import metrics"
      ],
      "metadata": {
        "id": "rGH4uOh39_1q"
      },
      "execution_count": 62,
      "outputs": []
    },
    {
      "cell_type": "code",
      "source": [
        "metrics.mean_squared_error(bos['avg_house_price'], model_pred, squared=False)"
      ],
      "metadata": {
        "colab": {
          "base_uri": "https://localhost:8080/"
        },
        "id": "hsdckIIA90T_",
        "outputId": "5c5328b6-980c-45db-e806-fbd374aaa1ed"
      },
      "execution_count": 63,
      "outputs": [
        {
          "output_type": "execute_result",
          "data": {
            "text/plain": [
              "4.868849876481693"
            ]
          },
          "metadata": {},
          "execution_count": 63
        }
      ]
    },
    {
      "cell_type": "code",
      "source": [
        "metrics.mean_squared_error(bos['avg_house_price'], model3_pred, squared=False)"
      ],
      "metadata": {
        "colab": {
          "base_uri": "https://localhost:8080/"
        },
        "id": "RSzaTv6o90QU",
        "outputId": "48a3235d-959d-470e-e8b6-43483ae4c516"
      },
      "execution_count": 64,
      "outputs": [
        {
          "output_type": "execute_result",
          "data": {
            "text/plain": [
              "5.020394390453027"
            ]
          },
          "metadata": {},
          "execution_count": 64
        }
      ]
    },
    {
      "cell_type": "markdown",
      "source": [
        "* Though the rmse value of 'model' is better den model 3' but still we will consider model 3' because in model there is presence of multicollinarity."
      ],
      "metadata": {
        "id": "C4vPsDM3-5EW"
      }
    },
    {
      "cell_type": "code",
      "source": [
        "from sklearn.linear_model import LinearRegression"
      ],
      "metadata": {
        "id": "vEeIVkw190BY"
      },
      "execution_count": 65,
      "outputs": []
    },
    {
      "cell_type": "code",
      "source": [
        "lr = LinearRegression()"
      ],
      "metadata": {
        "id": "bskorgv99z-_"
      },
      "execution_count": 66,
      "outputs": []
    },
    {
      "cell_type": "code",
      "source": [
        "X = bos.drop('avg_house_price', axis=1)\n",
        "Y = bos['avg_house_price']"
      ],
      "metadata": {
        "id": "0cpIcBWl9z8h"
      },
      "execution_count": 67,
      "outputs": []
    },
    {
      "cell_type": "code",
      "source": [
        "from sklearn.model_selection import train_test_split"
      ],
      "metadata": {
        "id": "giGfALmJ9z6Q"
      },
      "execution_count": 68,
      "outputs": []
    },
    {
      "cell_type": "code",
      "source": [
        "X_train, X_test, Y_train, Y_test = train_test_split(X, Y, test_size=0.3, random_state=1)"
      ],
      "metadata": {
        "id": "DE9j4vvN9z2O"
      },
      "execution_count": 69,
      "outputs": []
    },
    {
      "cell_type": "code",
      "source": [
        "model_3 = lr.fit(X_train[['crime_rate', 'close_to_charles_river', 'avg_num_rooms', \n",
        "                          'dist_frm_employment_center', 'pupil_teacher_ratio', 'perc_low_income_group']], Y_train)\n",
        "#We are only using Linear Regression as a predictive tool and not a descriptive tool"
      ],
      "metadata": {
        "id": "wRUIWqFs9zyB"
      },
      "execution_count": 72,
      "outputs": []
    },
    {
      "cell_type": "code",
      "source": [
        "#Training Data Prediction\n",
        "model_3_pred_train = model_3.predict(X_train[['crime_rate', 'close_to_charles_river', 'avg_num_rooms', \n",
        "                          'dist_frm_employment_center', 'pupil_teacher_ratio', 'perc_low_income_group']])"
      ],
      "metadata": {
        "id": "l8igob-qA47l"
      },
      "execution_count": 73,
      "outputs": []
    },
    {
      "cell_type": "code",
      "source": [
        "#Test Data Prediction\n",
        "model_3_pred_test = model_3.predict(X_test[['crime_rate', 'close_to_charles_river', 'avg_num_rooms', \n",
        "                          'dist_frm_employment_center', 'pupil_teacher_ratio', 'perc_low_income_group']])"
      ],
      "metadata": {
        "id": "SGi4222rA44B"
      },
      "execution_count": 74,
      "outputs": []
    },
    {
      "cell_type": "code",
      "source": [
        "print('Training Data RMSE of model_3:',metrics.mean_squared_error(Y_train,model_3_pred_train,squared=False))\n",
        "print('Test Data RMSE of model_3:',metrics.mean_squared_error(Y_test,model_3_pred_test,squared=False))"
      ],
      "metadata": {
        "colab": {
          "base_uri": "https://localhost:8080/"
        },
        "id": "ttTJoB0RA40_",
        "outputId": "7bb6ef46-0b71-4d78-ddc0-278ea15818dc"
      },
      "execution_count": 75,
      "outputs": [
        {
          "output_type": "stream",
          "name": "stdout",
          "text": [
            "Training Data RMSE of model_3: 5.18753462533894\n",
            "Test Data RMSE of model_3: 4.749265993059112\n"
          ]
        }
      ]
    },
    {
      "cell_type": "code",
      "source": [
        "f, (ax1, ax2) =  plt.subplots(nrows=1, ncols=2, figsize=(15,5), sharey=True)\n",
        "\n",
        "ax1.scatter(Y_train,model_3_pred_train)\n",
        "ax1.set_title('Model3 train predictions')\n",
        "\n",
        "ax2.scatter(Y_test,model_3_pred_test)\n",
        "ax2.set_title('Model 3 test predictions')\n",
        "plt.show()"
      ],
      "metadata": {
        "colab": {
          "base_uri": "https://localhost:8080/",
          "height": 344
        },
        "id": "TqrlvXdXA4sR",
        "outputId": "d44f2c68-86c5-4cf3-e3ac-dab87c6219d9"
      },
      "execution_count": 77,
      "outputs": [
        {
          "output_type": "display_data",
          "data": {
            "text/plain": [
              "<Figure size 1080x360 with 2 Axes>"
            ],
            "image/png": "[encoded data removed]"
          },
          "metadata": {
            "needs_background": "light"
          }
        }
      ]
    },
    {
      "cell_type": "code",
      "source": [],
      "metadata": {
        "id": "2plwcfvlA4pY"
      },
      "execution_count": 76,
      "outputs": []
    },
    {
      "cell_type": "markdown",
      "source": [
        "# New Section"
      ],
      "metadata": {
        "id": "Vwt9xeoEVGLU"
      }
    }
  ]
}